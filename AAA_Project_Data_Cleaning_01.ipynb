{
 "cells": [
  {
   "cell_type": "markdown",
   "metadata": {},
   "source": [
    "  # Capstone AAA Projet                     Martin George mgeorgevienna@gmail.com"
   ]
  },
  {
   "cell_type": "markdown",
   "metadata": {},
   "source": [
    "### Reading Excel file in to"
   ]
  },
  {
   "cell_type": "code",
   "execution_count": null,
   "metadata": {},
   "outputs": [],
   "source": []
  },
  {
   "cell_type": "code",
   "execution_count": 2,
   "metadata": {},
   "outputs": [],
   "source": [
    "%matplotlib inline\n",
    "import matplotlib.pyplot as plt\n",
    "import numpy as np\n",
    "import pandas as pd\n",
    "data = pd.read_csv('member_sample.csv', index_col = 0)"
   ]
  },
  {
   "cell_type": "code",
   "execution_count": 3,
   "metadata": {},
   "outputs": [
    {
     "name": "stdout",
     "output_type": "stream",
     "text": [
      "<class 'pandas.core.frame.DataFrame'>\n",
      "Int64Index: 21344 entries, 0 to 99998\n",
      "Columns: 112 entries, Individual Key to Was Towed To AAR Referral\n",
      "dtypes: float64(35), object(77)\n",
      "memory usage: 18.4+ MB\n"
     ]
    }
   ],
   "source": [
    "data.info()"
   ]
  },
  {
   "cell_type": "code",
   "execution_count": 4,
   "metadata": {
    "scrolled": false
   },
   "outputs": [
    {
     "data": {
      "text/html": [
       "<div>\n",
       "<style scoped>\n",
       "    .dataframe tbody tr th:only-of-type {\n",
       "        vertical-align: middle;\n",
       "    }\n",
       "\n",
       "    .dataframe tbody tr th {\n",
       "        vertical-align: top;\n",
       "    }\n",
       "\n",
       "    .dataframe thead th {\n",
       "        text-align: right;\n",
       "    }\n",
       "</style>\n",
       "<table border=\"1\" class=\"dataframe\">\n",
       "  <thead>\n",
       "    <tr style=\"text-align: right;\">\n",
       "      <th></th>\n",
       "      <th>Individual Key</th>\n",
       "      <th>Household Key</th>\n",
       "      <th>Member Flag</th>\n",
       "      <th>City</th>\n",
       "      <th>State - Grouped</th>\n",
       "      <th>ZIP5</th>\n",
       "      <th>ZIP9</th>\n",
       "      <th>FSV CMSI Flag</th>\n",
       "      <th>FSV Credit Card Flag</th>\n",
       "      <th>FSV Deposit Program Flag</th>\n",
       "      <th>...</th>\n",
       "      <th>SC Vehicle Manufacturer Name</th>\n",
       "      <th>SC Vehicle Model Name</th>\n",
       "      <th>SVC Facility Name</th>\n",
       "      <th>SVC Facility Type</th>\n",
       "      <th>Total Cost</th>\n",
       "      <th>Tow Destination Latitude</th>\n",
       "      <th>Tow Destination Longitude</th>\n",
       "      <th>Tow Destination Name</th>\n",
       "      <th>Was Duplicated</th>\n",
       "      <th>Was Towed To AAR Referral</th>\n",
       "    </tr>\n",
       "  </thead>\n",
       "  <tbody>\n",
       "    <tr>\n",
       "      <th>0</th>\n",
       "      <td>10000003.0</td>\n",
       "      <td>10462590.0</td>\n",
       "      <td>Y</td>\n",
       "      <td>NEW HAVEN</td>\n",
       "      <td>CT</td>\n",
       "      <td>6511.0</td>\n",
       "      <td>65111349.0</td>\n",
       "      <td>N</td>\n",
       "      <td>N</td>\n",
       "      <td>N</td>\n",
       "      <td>...</td>\n",
       "      <td>NaN</td>\n",
       "      <td>NaN</td>\n",
       "      <td>NaN</td>\n",
       "      <td>NaN</td>\n",
       "      <td>NaN</td>\n",
       "      <td>NaN</td>\n",
       "      <td>NaN</td>\n",
       "      <td>NaN</td>\n",
       "      <td>NaN</td>\n",
       "      <td>NaN</td>\n",
       "    </tr>\n",
       "    <tr>\n",
       "      <th>1</th>\n",
       "      <td>52211550.0</td>\n",
       "      <td>4500791.0</td>\n",
       "      <td>Y</td>\n",
       "      <td>WEST WARWICK</td>\n",
       "      <td>RI</td>\n",
       "      <td>2893.0</td>\n",
       "      <td>28933850.0</td>\n",
       "      <td>N</td>\n",
       "      <td>Y</td>\n",
       "      <td>N</td>\n",
       "      <td>...</td>\n",
       "      <td>TOYOTA</td>\n",
       "      <td>CAMRY</td>\n",
       "      <td>ASTRO WRECKER SERVICE</td>\n",
       "      <td>independent repair</td>\n",
       "      <td>32.5</td>\n",
       "      <td>41.0</td>\n",
       "      <td>-71.0</td>\n",
       "      <td>Aar / Johnson's Auto Service</td>\n",
       "      <td>0.0</td>\n",
       "      <td>1.0</td>\n",
       "    </tr>\n",
       "    <tr>\n",
       "      <th>2</th>\n",
       "      <td>52211550.0</td>\n",
       "      <td>4500791.0</td>\n",
       "      <td>Y</td>\n",
       "      <td>WEST WARWICK</td>\n",
       "      <td>RI</td>\n",
       "      <td>2893.0</td>\n",
       "      <td>28933850.0</td>\n",
       "      <td>N</td>\n",
       "      <td>Y</td>\n",
       "      <td>N</td>\n",
       "      <td>...</td>\n",
       "      <td>TOYOTA</td>\n",
       "      <td>CAMRY</td>\n",
       "      <td>Astro Wrecker Service</td>\n",
       "      <td>independent repair</td>\n",
       "      <td>30.0</td>\n",
       "      <td>0.0</td>\n",
       "      <td>0.0</td>\n",
       "      <td>NaN</td>\n",
       "      <td>0.0</td>\n",
       "      <td>0.0</td>\n",
       "    </tr>\n",
       "    <tr>\n",
       "      <th>3</th>\n",
       "      <td>52211550.0</td>\n",
       "      <td>4500791.0</td>\n",
       "      <td>Y</td>\n",
       "      <td>WEST WARWICK</td>\n",
       "      <td>RI</td>\n",
       "      <td>2893.0</td>\n",
       "      <td>28933850.0</td>\n",
       "      <td>N</td>\n",
       "      <td>Y</td>\n",
       "      <td>N</td>\n",
       "      <td>...</td>\n",
       "      <td>TOYOTA</td>\n",
       "      <td>CAMRY</td>\n",
       "      <td>ASTRO WRECKER SERVICE</td>\n",
       "      <td>independent repair</td>\n",
       "      <td>32.5</td>\n",
       "      <td>0.0</td>\n",
       "      <td>0.0</td>\n",
       "      <td>NaN</td>\n",
       "      <td>0.0</td>\n",
       "      <td>0.0</td>\n",
       "    </tr>\n",
       "    <tr>\n",
       "      <th>4</th>\n",
       "      <td>52211550.0</td>\n",
       "      <td>4500791.0</td>\n",
       "      <td>Y</td>\n",
       "      <td>WEST WARWICK</td>\n",
       "      <td>RI</td>\n",
       "      <td>2893.0</td>\n",
       "      <td>28933850.0</td>\n",
       "      <td>N</td>\n",
       "      <td>Y</td>\n",
       "      <td>N</td>\n",
       "      <td>...</td>\n",
       "      <td>TOYOTA</td>\n",
       "      <td>CAMRY</td>\n",
       "      <td>ASTRO WRECKER SERVICE</td>\n",
       "      <td>independent repair</td>\n",
       "      <td>30.0</td>\n",
       "      <td>0.0</td>\n",
       "      <td>0.0</td>\n",
       "      <td>NaN</td>\n",
       "      <td>0.0</td>\n",
       "      <td>0.0</td>\n",
       "    </tr>\n",
       "  </tbody>\n",
       "</table>\n",
       "<p>5 rows × 112 columns</p>\n",
       "</div>"
      ],
      "text/plain": [
       "   Individual Key  Household Key Member Flag          City State - Grouped  \\\n",
       "0      10000003.0     10462590.0           Y     NEW HAVEN              CT   \n",
       "1      52211550.0      4500791.0           Y  WEST WARWICK              RI   \n",
       "2      52211550.0      4500791.0           Y  WEST WARWICK              RI   \n",
       "3      52211550.0      4500791.0           Y  WEST WARWICK              RI   \n",
       "4      52211550.0      4500791.0           Y  WEST WARWICK              RI   \n",
       "\n",
       "     ZIP5        ZIP9 FSV CMSI Flag FSV Credit Card Flag  \\\n",
       "0  6511.0  65111349.0             N                    N   \n",
       "1  2893.0  28933850.0             N                    Y   \n",
       "2  2893.0  28933850.0             N                    Y   \n",
       "3  2893.0  28933850.0             N                    Y   \n",
       "4  2893.0  28933850.0             N                    Y   \n",
       "\n",
       "  FSV Deposit Program Flag            ...             \\\n",
       "0                        N            ...              \n",
       "1                        N            ...              \n",
       "2                        N            ...              \n",
       "3                        N            ...              \n",
       "4                        N            ...              \n",
       "\n",
       "  SC Vehicle Manufacturer Name SC Vehicle Model Name      SVC Facility Name  \\\n",
       "0                          NaN                   NaN                    NaN   \n",
       "1                       TOYOTA                 CAMRY  ASTRO WRECKER SERVICE   \n",
       "2                       TOYOTA                 CAMRY  Astro Wrecker Service   \n",
       "3                       TOYOTA                 CAMRY  ASTRO WRECKER SERVICE   \n",
       "4                       TOYOTA                 CAMRY  ASTRO WRECKER SERVICE   \n",
       "\n",
       "    SVC Facility Type Total Cost Tow Destination Latitude  \\\n",
       "0                 NaN        NaN                      NaN   \n",
       "1  independent repair       32.5                     41.0   \n",
       "2  independent repair       30.0                      0.0   \n",
       "3  independent repair       32.5                      0.0   \n",
       "4  independent repair       30.0                      0.0   \n",
       "\n",
       "  Tow Destination Longitude          Tow Destination Name  Was Duplicated  \\\n",
       "0                       NaN                           NaN             NaN   \n",
       "1                     -71.0  Aar / Johnson's Auto Service             0.0   \n",
       "2                       0.0                           NaN             0.0   \n",
       "3                       0.0                           NaN             0.0   \n",
       "4                       0.0                           NaN             0.0   \n",
       "\n",
       "  Was Towed To AAR Referral  \n",
       "0                       NaN  \n",
       "1                       1.0  \n",
       "2                       0.0  \n",
       "3                       0.0  \n",
       "4                       0.0  \n",
       "\n",
       "[5 rows x 112 columns]"
      ]
     },
     "execution_count": 4,
     "metadata": {},
     "output_type": "execute_result"
    }
   ],
   "source": [
    "data.head()"
   ]
  },
  {
   "cell_type": "code",
   "execution_count": 5,
   "metadata": {},
   "outputs": [],
   "source": [
    "nulls = data.isnull().sum()"
   ]
  },
  {
   "cell_type": "code",
   "execution_count": 6,
   "metadata": {},
   "outputs": [
    {
     "data": {
      "text/plain": [
       "pandas.core.series.Series"
      ]
     },
     "execution_count": 6,
     "metadata": {},
     "output_type": "execute_result"
    }
   ],
   "source": [
    "type(nulls)"
   ]
  },
  {
   "cell_type": "code",
   "execution_count": 7,
   "metadata": {},
   "outputs": [
    {
     "data": {
      "text/plain": [
       "Individual Key                        0\n",
       "Household Key                         0\n",
       "Member Flag                           0\n",
       "City                                  0\n",
       "State - Grouped                       0\n",
       "ZIP5                                  0\n",
       "ZIP9                                  0\n",
       "FSV CMSI Flag                         0\n",
       "FSV Credit Card Flag                  0\n",
       "FSV Deposit Program Flag              0\n",
       "FSV Home Equity Flag                  0\n",
       "FSV ID Theft Flag                     0\n",
       "FSV Mortgage Flag                     0\n",
       "INS Client Flag                       0\n",
       "TRV Globalware Flag                   0\n",
       "Number of Children                 9334\n",
       "Responded to Catalog              20484\n",
       "Race                               9334\n",
       "Length Of Residence                9334\n",
       "Mail Responder                     9334\n",
       "Home Owner                         9715\n",
       "Income                             9401\n",
       "Date Of Birth                     11153\n",
       "Children                           9334\n",
       "Education                          9334\n",
       "Dwelling Type                      5453\n",
       "Credit Ranges                      9334\n",
       "Language                           9334\n",
       "Gender                            12561\n",
       "Active Expiration Date                1\n",
       "                                  ...  \n",
       "Cash Call                          7347\n",
       "Clearing Code Last Description     7391\n",
       "Dispatch Code1 Description         7348\n",
       "Dispatch Code2Description         21344\n",
       "DTL Prob1 Code Description         7348\n",
       "Fleet Indicator                    7491\n",
       "Is Duplicate                       7347\n",
       "Is NSR                             7347\n",
       "Member Match Flag                  7347\n",
       "Member Number and Associate ID     7347\n",
       "Motorcycle Indicator               8163\n",
       "Plus Cost                          7400\n",
       "Plus Indicator Description         7347\n",
       "Premier Cost                       7433\n",
       "Prob1 Code Description             7347\n",
       "Prob2 Code Description            21336\n",
       "SC Call Club Code Description      7347\n",
       "SC Date                            7347\n",
       "Rec ID                             7347\n",
       "SC STS RSN Code Description        7391\n",
       "SC Vehicle Manufacturer Name       7359\n",
       "SC Vehicle Model Name              7367\n",
       "SVC Facility Name                  7491\n",
       "SVC Facility Type                  7975\n",
       "Total Cost                         7400\n",
       "Tow Destination Latitude           9531\n",
       "Tow Destination Longitude          9531\n",
       "Tow Destination Name              17652\n",
       "Was Duplicated                     7347\n",
       "Was Towed To AAR Referral          7347\n",
       "Length: 112, dtype: int64"
      ]
     },
     "execution_count": 7,
     "metadata": {},
     "output_type": "execute_result"
    }
   ],
   "source": [
    "nulls"
   ]
  },
  {
   "cell_type": "code",
   "execution_count": 8,
   "metadata": {},
   "outputs": [
    {
     "data": {
      "text/plain": [
       "<matplotlib.axes._subplots.AxesSubplot at 0x1af1cc7a5c0>"
      ]
     },
     "execution_count": 8,
     "metadata": {},
     "output_type": "execute_result"
    },
    {
     "data": {
      "image/png": "[encoded data removed]",
      "text/plain": [
       "<Figure size 1440x576 with 1 Axes>"
      ]
     },
     "metadata": {
      "needs_background": "light"
     },
     "output_type": "display_data"
    }
   ],
   "source": [
    "nulls.nlargest(30).plot(kind='bar',figsize =(20,8))"
   ]
  },
  {
   "cell_type": "markdown",
   "metadata": {},
   "source": [
    "\n",
    "### Loc and iloc"
   ]
  },
  {
   "cell_type": "markdown",
   "metadata": {},
   "source": [
    "loc vs iloc:\n",
    "The loc indexer can also do boolean selection. For instance, if we are interested in finding all the rows where Age is less 30 and return just the Color and Height columns we can do the following. We can replicate this with iloc but we cannot pass it a boolean series. We must convert the boolean Series into a numpy array.\n",
    "loc gets rows (or columns) with particular labels from the index.\n",
    "iloc gets rows (or columns) at particular positions in the index (so it only takes integers)."
   ]
  },
  {
   "cell_type": "markdown",
   "metadata": {},
   "source": [
    "### Example"
   ]
  },
  {
   "cell_type": "code",
   "execution_count": 9,
   "metadata": {},
   "outputs": [
    {
     "name": "stdout",
     "output_type": "stream",
     "text": [
      "           Age  Color    Food  Height  Score State\n",
      "Jane        30   Blue   Steak     165    4.6    NY\n",
      "Nick        20  Green    Lamb      70    8.3    TX\n",
      "Aaron       22    Red   Mango     120    9.0    FL\n",
      "Penelope    40  White   Apple      80    3.3    AL\n",
      "Dean        32   Gray  Cheese     180    1.8    AK\n",
      "Christina   28  Black   Melon     172    9.5    TX\n",
      "Cornelia    39    Red   Beans     150    2.2    TX\n",
      "<class 'pandas.core.frame.DataFrame'>\n",
      "Index: 7 entries, Jane to Cornelia\n",
      "Data columns (total 6 columns):\n",
      "Age       7 non-null int64\n",
      "Color     7 non-null object\n",
      "Food      7 non-null object\n",
      "Height    7 non-null int64\n",
      "Score     7 non-null float64\n",
      "State     7 non-null object\n",
      "dtypes: float64(1), int64(2), object(3)\n",
      "memory usage: 392.0+ bytes\n",
      "\n",
      " -- loc -- \n",
      "\n",
      "           Color  Height\n",
      "Nick       Green      70\n",
      "Aaron        Red     120\n",
      "Christina  Black     172\n",
      "\n",
      " -- iloc -- \n",
      "\n",
      "           Color  Score\n",
      "Nick       Green    8.3\n",
      "Aaron        Red    9.0\n",
      "Christina  Black    9.5\n"
     ]
    }
   ],
   "source": [
    "df = pd.DataFrame({'Age': [30, 20, 22, 40, 32, 28, 39],\n",
    "                   'Color': ['Blue', 'Green', 'Red', 'White', 'Gray', 'Black',\n",
    "                             'Red'],\n",
    "                   'Food': ['Steak', 'Lamb', 'Mango', 'Apple', 'Cheese',\n",
    "                            'Melon', 'Beans'],\n",
    "                   'Height': [165, 70, 120, 80, 180, 172, 150],\n",
    "                   'Score': [4.6, 8.3, 9.0, 3.3, 1.8, 9.5, 2.2],\n",
    "                   'State': ['NY', 'TX', 'FL', 'AL', 'AK', 'TX', 'TX']\n",
    "                   },\n",
    "                  index=['Jane', 'Nick', 'Aaron', 'Penelope', 'Dean',\n",
    "                         'Christina', 'Cornelia'])\n",
    "print(df)\n",
    "df.info()\n",
    " \n",
    "print(\"\\n -- loc -- \\n\")\n",
    "print(df.loc[df['Age'] < 30, ['Color', 'Height']])\n",
    " \n",
    "print(\"\\n -- iloc -- \\n\")\n",
    "print(df.iloc[(df['Age'] < 30).values, [1, 4]])\n"
   ]
  },
  {
   "cell_type": "code",
   "execution_count": 10,
   "metadata": {},
   "outputs": [
    {
     "data": {
      "text/plain": [
       "0    NaN\n",
       "1    NaN\n",
       "2    NaN\n",
       "3    NaN\n",
       "4    NaN\n",
       "Name: Reason Joined, dtype: object"
      ]
     },
     "execution_count": 10,
     "metadata": {},
     "output_type": "execute_result"
    }
   ],
   "source": [
    "data['Reason Joined'].head()"
   ]
  },
  {
   "cell_type": "code",
   "execution_count": 11,
   "metadata": {},
   "outputs": [
    {
     "data": {
      "text/plain": [
       "U                      168\n",
       "Dependable Services    127\n",
       "5                       45\n",
       "Family Plan Avail       19\n",
       "Nation Wide Rd Srv       7\n",
       "Gift Membership          5\n",
       "Free Membership          4\n",
       "Club Reputation          3\n",
       "3                        3\n",
       "Variety of Services      1\n",
       "Recommend/Referral       1\n",
       "7                        1\n",
       "Direct Mail              1\n",
       "Convenient Offices       1\n",
       "Prior Family Exp         1\n",
       "Other                    1\n",
       "Name: Reason Joined, dtype: int64"
      ]
     },
     "execution_count": 11,
     "metadata": {},
     "output_type": "execute_result"
    }
   ],
   "source": [
    "data['Reason Joined'].value_counts()"
   ]
  },
  {
   "cell_type": "code",
   "execution_count": 12,
   "metadata": {},
   "outputs": [
    {
     "data": {
      "text/plain": [
       "(21344, 112)"
      ]
     },
     "execution_count": 12,
     "metadata": {},
     "output_type": "execute_result"
    }
   ],
   "source": [
    "data.shape"
   ]
  },
  {
   "cell_type": "code",
   "execution_count": 13,
   "metadata": {},
   "outputs": [],
   "source": [
    "data['Reason Joined'].fillna('unknow',inplace=True)"
   ]
  },
  {
   "cell_type": "code",
   "execution_count": 14,
   "metadata": {},
   "outputs": [
    {
     "data": {
      "text/plain": [
       "unknow                 20956\n",
       "U                        168\n",
       "Dependable Services      127\n",
       "5                         45\n",
       "Family Plan Avail         19\n",
       "Nation Wide Rd Srv         7\n",
       "Gift Membership            5\n",
       "Free Membership            4\n",
       "3                          3\n",
       "Club Reputation            3\n",
       "Direct Mail                1\n",
       "Recommend/Referral         1\n",
       "Convenient Offices         1\n",
       "Prior Family Exp           1\n",
       "7                          1\n",
       "Other                      1\n",
       "Variety of Services        1\n",
       "Name: Reason Joined, dtype: int64"
      ]
     },
     "execution_count": 14,
     "metadata": {},
     "output_type": "execute_result"
    }
   ],
   "source": [
    "data['Reason Joined'].value_counts()"
   ]
  },
  {
   "cell_type": "markdown",
   "metadata": {},
   "source": [
    "# 'Reason Joined' has 20956 null values out of 21344 and not a good data for analysis"
   ]
  },
  {
   "cell_type": "code",
   "execution_count": 15,
   "metadata": {},
   "outputs": [],
   "source": [
    "dependable_service_group = data.loc[data['Reason Joined'] == 'Dependable Services']"
   ]
  },
  {
   "cell_type": "code",
   "execution_count": 16,
   "metadata": {},
   "outputs": [],
   "source": [
    "everyone_else = data.loc[data['Reason Joined'] != 'Dependable Services']"
   ]
  },
  {
   "cell_type": "code",
   "execution_count": 17,
   "metadata": {},
   "outputs": [
    {
     "name": "stdout",
     "output_type": "stream",
     "text": [
      "<class 'pandas.core.frame.DataFrame'>\n",
      "Int64Index: 127 entries, 633 to 89877\n",
      "Columns: 112 entries, Individual Key to Was Towed To AAR Referral\n",
      "dtypes: float64(35), object(77)\n",
      "memory usage: 112.1+ KB\n"
     ]
    }
   ],
   "source": [
    "dependable_service_group.info()"
   ]
  },
  {
   "cell_type": "code",
   "execution_count": 18,
   "metadata": {},
   "outputs": [
    {
     "name": "stdout",
     "output_type": "stream",
     "text": [
      "<class 'pandas.core.frame.DataFrame'>\n",
      "Int64Index: 21217 entries, 0 to 99998\n",
      "Columns: 112 entries, Individual Key to Was Towed To AAR Referral\n",
      "dtypes: float64(35), object(77)\n",
      "memory usage: 18.3+ MB\n"
     ]
    }
   ],
   "source": [
    "everyone_else.info()"
   ]
  },
  {
   "cell_type": "code",
   "execution_count": 19,
   "metadata": {},
   "outputs": [
    {
     "data": {
      "text/plain": [
       "Member Requests Battery Service             3804\n",
       "Flat Tire w/spare                           2410\n",
       "No Crank - Jump Start                       1192\n",
       "Key Locked In Passenger Compartment         1036\n",
       "Other Required Tow (describe)                831\n",
       "Convenience/Member Concern Tow               744\n",
       "Tire Issue Requires Tow To Shop              426\n",
       "Engine Runs Poorly                           408\n",
       "Brake System Failure                         275\n",
       "Out Of Gasoline                              263\n",
       "Need Air In Tire                             233\n",
       "Engine Stalled While Driving                 225\n",
       "Engine Overheat                              223\n",
       "Transmission/Clutch Failure                  219\n",
       "Member Requests Tow                          189\n",
       "Known Starter Problem                        187\n",
       "Collision/Police Tow                         151\n",
       "No Crank - Bat Svc (non-AAA Bat)             147\n",
       "Known Alternator Problem                     133\n",
       "Extrication - Probable GO                    132\n",
       "Other Runs Won't Move Problem (describe)     112\n",
       "Axle/Driveshaft/Suspension Failure           105\n",
       "No Crank - Bat Svc (AAA Bat)                  79\n",
       "Ignition Key Won't Turn In Switch             68\n",
       "Key Locked In Trunk w/Trunk Release           59\n",
       "Light Service Redispatch As Tow               47\n",
       "Leaking Fluids                                47\n",
       "Lock Issue Requires Tow To Dealer             37\n",
       "Undercar Component Dragging                   31\n",
       "Crank No Start                                26\n",
       "Extrication - Probable TOW                    22\n",
       "Lost/Damaged Vehicle Key                      21\n",
       "Flat Tire w/o spare                           20\n",
       "Other Lockout Problem (describe)              19\n",
       "Frozen Door Lock                              15\n",
       "Car Alarm Issue                               10\n",
       "Key Broken In Ignition Switch                  8\n",
       "Multiple Flat Tires                            6\n",
       "Other Service (describe)                       5\n",
       "Taxi/Shuttle Service                           4\n",
       "Other Crank No Start Problem (describe)        4\n",
       "Parking Brake Won't Release                    4\n",
       "Hood/Door Won't Close/Latch                    4\n",
       "Windshield Damage                              3\n",
       "Lost/Damaged  Club  Key                        2\n",
       "Key Locked In Trunk - No Trunk Release         2\n",
       "Other Locksmith Problem (describe)             2\n",
       "EV Out Of Charge Station Range                 1\n",
       "Vehicle Mis-Fueled                             1\n",
       "Vehicle Fire                                   1\n",
       "Home Lockout                                   1\n",
       "Key Broken In Door - Ignition Key              1\n",
       "Other Runs Poorly Problem (describe)           1\n",
       "Name: Dispatch Code1 Description, dtype: int64"
      ]
     },
     "execution_count": 19,
     "metadata": {},
     "output_type": "execute_result"
    }
   ],
   "source": [
    "data['Dispatch Code1 Description'].value_counts()"
   ]
  },
  {
   "cell_type": "code",
   "execution_count": 20,
   "metadata": {},
   "outputs": [
    {
     "data": {
      "text/html": [
       "<div>\n",
       "<style scoped>\n",
       "    .dataframe tbody tr th:only-of-type {\n",
       "        vertical-align: middle;\n",
       "    }\n",
       "\n",
       "    .dataframe tbody tr th {\n",
       "        vertical-align: top;\n",
       "    }\n",
       "\n",
       "    .dataframe thead th {\n",
       "        text-align: right;\n",
       "    }\n",
       "</style>\n",
       "<table border=\"1\" class=\"dataframe\">\n",
       "  <thead>\n",
       "    <tr style=\"text-align: right;\">\n",
       "      <th></th>\n",
       "      <th>Individual Key</th>\n",
       "      <th>Household Key</th>\n",
       "      <th>Member Flag</th>\n",
       "      <th>City</th>\n",
       "      <th>State - Grouped</th>\n",
       "      <th>ZIP5</th>\n",
       "      <th>ZIP9</th>\n",
       "      <th>FSV CMSI Flag</th>\n",
       "      <th>FSV Credit Card Flag</th>\n",
       "      <th>FSV Deposit Program Flag</th>\n",
       "      <th>...</th>\n",
       "      <th>SC Vehicle Manufacturer Name</th>\n",
       "      <th>SC Vehicle Model Name</th>\n",
       "      <th>SVC Facility Name</th>\n",
       "      <th>SVC Facility Type</th>\n",
       "      <th>Total Cost</th>\n",
       "      <th>Tow Destination Latitude</th>\n",
       "      <th>Tow Destination Longitude</th>\n",
       "      <th>Tow Destination Name</th>\n",
       "      <th>Was Duplicated</th>\n",
       "      <th>Was Towed To AAR Referral</th>\n",
       "    </tr>\n",
       "  </thead>\n",
       "  <tbody>\n",
       "    <tr>\n",
       "      <th>17</th>\n",
       "      <td>2766868.0</td>\n",
       "      <td>11622991.0</td>\n",
       "      <td>Y</td>\n",
       "      <td>WARWICK</td>\n",
       "      <td>RI</td>\n",
       "      <td>2889.0</td>\n",
       "      <td>28892920.0</td>\n",
       "      <td>N</td>\n",
       "      <td>N</td>\n",
       "      <td>N</td>\n",
       "      <td>...</td>\n",
       "      <td>SUBARU</td>\n",
       "      <td>BRZ</td>\n",
       "      <td>AAA SNE RI  LIGHT SERVICE</td>\n",
       "      <td>other</td>\n",
       "      <td>53.0</td>\n",
       "      <td>0.0</td>\n",
       "      <td>0.0</td>\n",
       "      <td>NaN</td>\n",
       "      <td>0.0</td>\n",
       "      <td>0.0</td>\n",
       "    </tr>\n",
       "    <tr>\n",
       "      <th>18</th>\n",
       "      <td>2766868.0</td>\n",
       "      <td>11622991.0</td>\n",
       "      <td>Y</td>\n",
       "      <td>WARWICK</td>\n",
       "      <td>RI</td>\n",
       "      <td>2889.0</td>\n",
       "      <td>28892920.0</td>\n",
       "      <td>N</td>\n",
       "      <td>N</td>\n",
       "      <td>N</td>\n",
       "      <td>...</td>\n",
       "      <td>SUBARU</td>\n",
       "      <td>BRZ</td>\n",
       "      <td>AAA SNE RI  LIGHT SERVICE</td>\n",
       "      <td>other</td>\n",
       "      <td>53.0</td>\n",
       "      <td>0.0</td>\n",
       "      <td>0.0</td>\n",
       "      <td>NaN</td>\n",
       "      <td>0.0</td>\n",
       "      <td>0.0</td>\n",
       "    </tr>\n",
       "    <tr>\n",
       "      <th>19</th>\n",
       "      <td>2766868.0</td>\n",
       "      <td>11622991.0</td>\n",
       "      <td>Y</td>\n",
       "      <td>WARWICK</td>\n",
       "      <td>RI</td>\n",
       "      <td>2889.0</td>\n",
       "      <td>28892920.0</td>\n",
       "      <td>N</td>\n",
       "      <td>N</td>\n",
       "      <td>N</td>\n",
       "      <td>...</td>\n",
       "      <td>HYUNDAI</td>\n",
       "      <td>TUCSON</td>\n",
       "      <td>Assured Collision Inc</td>\n",
       "      <td>body shop</td>\n",
       "      <td>29.0</td>\n",
       "      <td>0.0</td>\n",
       "      <td>0.0</td>\n",
       "      <td>NaN</td>\n",
       "      <td>0.0</td>\n",
       "      <td>0.0</td>\n",
       "    </tr>\n",
       "    <tr>\n",
       "      <th>20</th>\n",
       "      <td>13746947.0</td>\n",
       "      <td>579810.0</td>\n",
       "      <td>Y</td>\n",
       "      <td>CENTRAL FALLS</td>\n",
       "      <td>RI</td>\n",
       "      <td>2863.0</td>\n",
       "      <td>28631322.0</td>\n",
       "      <td>N</td>\n",
       "      <td>N</td>\n",
       "      <td>N</td>\n",
       "      <td>...</td>\n",
       "      <td>INFINITI</td>\n",
       "      <td>QX56</td>\n",
       "      <td>KING'S SERVICE CENTER</td>\n",
       "      <td>service station</td>\n",
       "      <td>28.0</td>\n",
       "      <td>0.0</td>\n",
       "      <td>0.0</td>\n",
       "      <td>NaN</td>\n",
       "      <td>0.0</td>\n",
       "      <td>0.0</td>\n",
       "    </tr>\n",
       "  </tbody>\n",
       "</table>\n",
       "<p>4 rows × 112 columns</p>\n",
       "</div>"
      ],
      "text/plain": [
       "    Individual Key  Household Key Member Flag           City State - Grouped  \\\n",
       "17       2766868.0     11622991.0           Y        WARWICK              RI   \n",
       "18       2766868.0     11622991.0           Y        WARWICK              RI   \n",
       "19       2766868.0     11622991.0           Y        WARWICK              RI   \n",
       "20      13746947.0       579810.0           Y  CENTRAL FALLS              RI   \n",
       "\n",
       "      ZIP5        ZIP9 FSV CMSI Flag FSV Credit Card Flag  \\\n",
       "17  2889.0  28892920.0             N                    N   \n",
       "18  2889.0  28892920.0             N                    N   \n",
       "19  2889.0  28892920.0             N                    N   \n",
       "20  2863.0  28631322.0             N                    N   \n",
       "\n",
       "   FSV Deposit Program Flag            ...             \\\n",
       "17                        N            ...              \n",
       "18                        N            ...              \n",
       "19                        N            ...              \n",
       "20                        N            ...              \n",
       "\n",
       "   SC Vehicle Manufacturer Name SC Vehicle Model Name  \\\n",
       "17                       SUBARU                   BRZ   \n",
       "18                       SUBARU                   BRZ   \n",
       "19                      HYUNDAI                TUCSON   \n",
       "20                     INFINITI                  QX56   \n",
       "\n",
       "            SVC Facility Name SVC Facility Type Total Cost  \\\n",
       "17  AAA SNE RI  LIGHT SERVICE             other       53.0   \n",
       "18  AAA SNE RI  LIGHT SERVICE             other       53.0   \n",
       "19      Assured Collision Inc         body shop       29.0   \n",
       "20      KING'S SERVICE CENTER   service station       28.0   \n",
       "\n",
       "   Tow Destination Latitude Tow Destination Longitude Tow Destination Name  \\\n",
       "17                      0.0                       0.0                  NaN   \n",
       "18                      0.0                       0.0                  NaN   \n",
       "19                      0.0                       0.0                  NaN   \n",
       "20                      0.0                       0.0                  NaN   \n",
       "\n",
       "    Was Duplicated Was Towed To AAR Referral  \n",
       "17             0.0                       0.0  \n",
       "18             0.0                       0.0  \n",
       "19             0.0                       0.0  \n",
       "20             0.0                       0.0  \n",
       "\n",
       "[4 rows x 112 columns]"
      ]
     },
     "execution_count": 20,
     "metadata": {},
     "output_type": "execute_result"
    }
   ],
   "source": [
    "data.iloc[17:21]"
   ]
  },
  {
   "cell_type": "code",
   "execution_count": 21,
   "metadata": {},
   "outputs": [],
   "source": [
    "data['Date'] = pd.to_datetime(data['SC Date'])\n"
   ]
  },
  {
   "cell_type": "code",
   "execution_count": 22,
   "metadata": {},
   "outputs": [
    {
     "data": {
      "text/plain": [
       "<matplotlib.axes._subplots.AxesSubplot at 0x1af1d374dd8>"
      ]
     },
     "execution_count": 22,
     "metadata": {},
     "output_type": "execute_result"
    },
    {
     "data": {
      "image/png": "[encoded data removed]",
      "text/plain": [
       "<Figure size 432x288 with 1 Axes>"
      ]
     },
     "metadata": {
      "needs_background": "light"
     },
     "output_type": "display_data"
    }
   ],
   "source": [
    "data['Date'].dt.year.value_counts().plot(kind = 'bar')"
   ]
  },
  {
   "cell_type": "code",
   "execution_count": 23,
   "metadata": {},
   "outputs": [
    {
     "data": {
      "text/plain": [
       "<matplotlib.axes._subplots.AxesSubplot at 0x1af1d05fa58>"
      ]
     },
     "execution_count": 23,
     "metadata": {},
     "output_type": "execute_result"
    },
    {
     "data": {
      "image/png": "[encoded data removed]",
      "text/plain": [
       "<Figure size 432x288 with 1 Axes>"
      ]
     },
     "metadata": {
      "needs_background": "light"
     },
     "output_type": "display_data"
    }
   ],
   "source": [
    "data.groupby('Date').size().plot()"
   ]
  },
  {
   "cell_type": "code",
   "execution_count": 24,
   "metadata": {},
   "outputs": [
    {
     "data": {
      "text/plain": [
       "0    unknow\n",
       "1    unknow\n",
       "2    unknow\n",
       "3    unknow\n",
       "4    unknow\n",
       "Name: Reason Joined, dtype: object"
      ]
     },
     "execution_count": 24,
     "metadata": {},
     "output_type": "execute_result"
    }
   ],
   "source": [
    "data['Reason Joined'].head()"
   ]
  },
  {
   "cell_type": "code",
   "execution_count": 25,
   "metadata": {},
   "outputs": [
    {
     "data": {
      "text/plain": [
       "unknow                 20956\n",
       "U                        168\n",
       "Dependable Services      127\n",
       "5                         45\n",
       "Family Plan Avail         19\n",
       "Nation Wide Rd Srv         7\n",
       "Gift Membership            5\n",
       "Free Membership            4\n",
       "3                          3\n",
       "Club Reputation            3\n",
       "Direct Mail                1\n",
       "Recommend/Referral         1\n",
       "Convenient Offices         1\n",
       "Prior Family Exp           1\n",
       "7                          1\n",
       "Other                      1\n",
       "Variety of Services        1\n",
       "Name: Reason Joined, dtype: int64"
      ]
     },
     "execution_count": 25,
     "metadata": {},
     "output_type": "execute_result"
    }
   ],
   "source": [
    "data['Reason Joined'].value_counts()"
   ]
  },
  {
   "cell_type": "code",
   "execution_count": 26,
   "metadata": {},
   "outputs": [
    {
     "name": "stderr",
     "output_type": "stream",
     "text": [
      "C:\\Users\\george\\AppData\\Local\\Continuum\\anaconda3\\lib\\site-packages\\numpy\\lib\\histograms.py:754: RuntimeWarning: invalid value encountered in greater_equal\n",
      "  keep = (tmp_a >= first_edge)\n",
      "C:\\Users\\george\\AppData\\Local\\Continuum\\anaconda3\\lib\\site-packages\\numpy\\lib\\histograms.py:755: RuntimeWarning: invalid value encountered in less_equal\n",
      "  keep &= (tmp_a <= last_edge)\n"
     ]
    },
    {
     "data": {
      "text/plain": [
       "(0, 160)"
      ]
     },
     "execution_count": 26,
     "metadata": {},
     "output_type": "execute_result"
    },
    {
     "data": {
      "image/png": "[encoded data removed]",
      "text/plain": [
       "<Figure size 1080x360 with 2 Axes>"
      ]
     },
     "metadata": {
      "needs_background": "light"
     },
     "output_type": "display_data"
    }
   ],
   "source": [
    "fig, ax = plt.subplots(nrows = 1, ncols = 2, figsize = (15, 5))\n",
    "ax[0].hist(dependable_service_group['Total Cost']);\n",
    "ax[1].hist(everyone_else['Total Cost'], bins = 2000);\n",
    "ax[1].set_xlim(0,160)\n"
   ]
  },
  {
   "cell_type": "code",
   "execution_count": 27,
   "metadata": {},
   "outputs": [
    {
     "data": {
      "text/plain": [
       "100-149,999      2577\n",
       "90-99,999        2400\n",
       "70-79,999        1000\n",
       "50-59,999         888\n",
       "40-49,999         771\n",
       "10-19,999         688\n",
       "175 - 199,999     600\n",
       "30-39,999         553\n",
       "60-69,999         541\n",
       "150 - 174,999     438\n",
       "20-29,999         425\n",
       "200 - 249,999     424\n",
       "250K+             397\n",
       "Under 10K         226\n",
       "80-89,999          15\n",
       "Name: Income, dtype: int64"
      ]
     },
     "execution_count": 27,
     "metadata": {},
     "output_type": "execute_result"
    }
   ],
   "source": [
    "data['Income'].value_counts()"
   ]
  },
  {
   "cell_type": "code",
   "execution_count": 28,
   "metadata": {},
   "outputs": [],
   "source": [
    "data['Income'].fillna('unknown',inplace=True)\n"
   ]
  },
  {
   "cell_type": "code",
   "execution_count": 29,
   "metadata": {},
   "outputs": [
    {
     "data": {
      "text/plain": [
       "unknown          9401\n",
       "100-149,999      2577\n",
       "90-99,999        2400\n",
       "70-79,999        1000\n",
       "50-59,999         888\n",
       "40-49,999         771\n",
       "10-19,999         688\n",
       "175 - 199,999     600\n",
       "30-39,999         553\n",
       "60-69,999         541\n",
       "150 - 174,999     438\n",
       "20-29,999         425\n",
       "200 - 249,999     424\n",
       "250K+             397\n",
       "Under 10K         226\n",
       "80-89,999          15\n",
       "Name: Income, dtype: int64"
      ]
     },
     "execution_count": 29,
     "metadata": {},
     "output_type": "execute_result"
    }
   ],
   "source": [
    "data['Income'].value_counts()"
   ]
  },
  {
   "cell_type": "code",
   "execution_count": 30,
   "metadata": {},
   "outputs": [
    {
     "data": {
      "text/plain": [
       "Home Owner             11121\n",
       "Renter                   491\n",
       "Probable Renter           10\n",
       "Probable Home Owner        7\n",
       "Name: Home Owner, dtype: int64"
      ]
     },
     "execution_count": 30,
     "metadata": {},
     "output_type": "execute_result"
    }
   ],
   "source": [
    "data['Home Owner'].value_counts()"
   ]
  },
  {
   "cell_type": "code",
   "execution_count": 31,
   "metadata": {},
   "outputs": [],
   "source": [
    "def yes_noer(x):\n",
    "    if x== 'Y':\n",
    "        return 1\n",
    "    elif x == 'N':\n",
    "        return 0\n",
    "    else:\n",
    "        return np.nan\n",
    "    "
   ]
  },
  {
   "cell_type": "markdown",
   "metadata": {},
   "source": [
    "'FSV CMSI Flag'  is Engagement with AAA  Financial Service"
   ]
  },
  {
   "cell_type": "code",
   "execution_count": 32,
   "metadata": {},
   "outputs": [],
   "source": [
    "data['FSV CMSI Flag'] = data['FSV CMSI Flag'].apply(yes_noer)"
   ]
  },
  {
   "cell_type": "code",
   "execution_count": 33,
   "metadata": {},
   "outputs": [
    {
     "data": {
      "text/plain": [
       "0    20393\n",
       "1      951\n",
       "Name: FSV CMSI Flag, dtype: int64"
      ]
     },
     "execution_count": 33,
     "metadata": {},
     "output_type": "execute_result"
    }
   ],
   "source": [
    "data['FSV CMSI Flag'].value_counts()"
   ]
  },
  {
   "cell_type": "code",
   "execution_count": 34,
   "metadata": {},
   "outputs": [
    {
     "data": {
      "text/plain": [
       "Home Owner\n",
       "Home Owner             0.058988\n",
       "Probable Home Owner    0.000000\n",
       "Probable Renter        0.000000\n",
       "Renter                 0.097760\n",
       "Name: FSV CMSI Flag, dtype: float64"
      ]
     },
     "execution_count": 34,
     "metadata": {},
     "output_type": "execute_result"
    }
   ],
   "source": [
    "data.groupby(['Home Owner'])['FSV CMSI Flag'].mean()"
   ]
  },
  {
   "cell_type": "code",
   "execution_count": 35,
   "metadata": {},
   "outputs": [],
   "source": [
    "home_owners = data.loc[data['Home Owner'] == 'Home Owner']"
   ]
  },
  {
   "cell_type": "code",
   "execution_count": 36,
   "metadata": {},
   "outputs": [
    {
     "data": {
      "text/html": [
       "<div>\n",
       "<style scoped>\n",
       "    .dataframe tbody tr th:only-of-type {\n",
       "        vertical-align: middle;\n",
       "    }\n",
       "\n",
       "    .dataframe tbody tr th {\n",
       "        vertical-align: top;\n",
       "    }\n",
       "\n",
       "    .dataframe thead th {\n",
       "        text-align: right;\n",
       "    }\n",
       "</style>\n",
       "<table border=\"1\" class=\"dataframe\">\n",
       "  <thead>\n",
       "    <tr style=\"text-align: right;\">\n",
       "      <th></th>\n",
       "      <th>Individual Key</th>\n",
       "      <th>Household Key</th>\n",
       "      <th>Member Flag</th>\n",
       "      <th>City</th>\n",
       "      <th>State - Grouped</th>\n",
       "      <th>ZIP5</th>\n",
       "      <th>ZIP9</th>\n",
       "      <th>FSV CMSI Flag</th>\n",
       "      <th>FSV Credit Card Flag</th>\n",
       "      <th>FSV Deposit Program Flag</th>\n",
       "      <th>...</th>\n",
       "      <th>SC Vehicle Model Name</th>\n",
       "      <th>SVC Facility Name</th>\n",
       "      <th>SVC Facility Type</th>\n",
       "      <th>Total Cost</th>\n",
       "      <th>Tow Destination Latitude</th>\n",
       "      <th>Tow Destination Longitude</th>\n",
       "      <th>Tow Destination Name</th>\n",
       "      <th>Was Duplicated</th>\n",
       "      <th>Was Towed To AAR Referral</th>\n",
       "      <th>Date</th>\n",
       "    </tr>\n",
       "  </thead>\n",
       "  <tbody>\n",
       "    <tr>\n",
       "      <th>1</th>\n",
       "      <td>52211550.0</td>\n",
       "      <td>4500791.0</td>\n",
       "      <td>Y</td>\n",
       "      <td>WEST WARWICK</td>\n",
       "      <td>RI</td>\n",
       "      <td>2893.0</td>\n",
       "      <td>28933850.0</td>\n",
       "      <td>0</td>\n",
       "      <td>Y</td>\n",
       "      <td>N</td>\n",
       "      <td>...</td>\n",
       "      <td>CAMRY</td>\n",
       "      <td>ASTRO WRECKER SERVICE</td>\n",
       "      <td>independent repair</td>\n",
       "      <td>32.5</td>\n",
       "      <td>41.0</td>\n",
       "      <td>-71.0</td>\n",
       "      <td>Aar / Johnson's Auto Service</td>\n",
       "      <td>0.0</td>\n",
       "      <td>1.0</td>\n",
       "      <td>2017-04-13</td>\n",
       "    </tr>\n",
       "    <tr>\n",
       "      <th>2</th>\n",
       "      <td>52211550.0</td>\n",
       "      <td>4500791.0</td>\n",
       "      <td>Y</td>\n",
       "      <td>WEST WARWICK</td>\n",
       "      <td>RI</td>\n",
       "      <td>2893.0</td>\n",
       "      <td>28933850.0</td>\n",
       "      <td>0</td>\n",
       "      <td>Y</td>\n",
       "      <td>N</td>\n",
       "      <td>...</td>\n",
       "      <td>CAMRY</td>\n",
       "      <td>Astro Wrecker Service</td>\n",
       "      <td>independent repair</td>\n",
       "      <td>30.0</td>\n",
       "      <td>0.0</td>\n",
       "      <td>0.0</td>\n",
       "      <td>NaN</td>\n",
       "      <td>0.0</td>\n",
       "      <td>0.0</td>\n",
       "      <td>2016-07-26</td>\n",
       "    </tr>\n",
       "    <tr>\n",
       "      <th>3</th>\n",
       "      <td>52211550.0</td>\n",
       "      <td>4500791.0</td>\n",
       "      <td>Y</td>\n",
       "      <td>WEST WARWICK</td>\n",
       "      <td>RI</td>\n",
       "      <td>2893.0</td>\n",
       "      <td>28933850.0</td>\n",
       "      <td>0</td>\n",
       "      <td>Y</td>\n",
       "      <td>N</td>\n",
       "      <td>...</td>\n",
       "      <td>CAMRY</td>\n",
       "      <td>ASTRO WRECKER SERVICE</td>\n",
       "      <td>independent repair</td>\n",
       "      <td>32.5</td>\n",
       "      <td>0.0</td>\n",
       "      <td>0.0</td>\n",
       "      <td>NaN</td>\n",
       "      <td>0.0</td>\n",
       "      <td>0.0</td>\n",
       "      <td>2017-02-13</td>\n",
       "    </tr>\n",
       "    <tr>\n",
       "      <th>4</th>\n",
       "      <td>52211550.0</td>\n",
       "      <td>4500791.0</td>\n",
       "      <td>Y</td>\n",
       "      <td>WEST WARWICK</td>\n",
       "      <td>RI</td>\n",
       "      <td>2893.0</td>\n",
       "      <td>28933850.0</td>\n",
       "      <td>0</td>\n",
       "      <td>Y</td>\n",
       "      <td>N</td>\n",
       "      <td>...</td>\n",
       "      <td>CAMRY</td>\n",
       "      <td>ASTRO WRECKER SERVICE</td>\n",
       "      <td>independent repair</td>\n",
       "      <td>30.0</td>\n",
       "      <td>0.0</td>\n",
       "      <td>0.0</td>\n",
       "      <td>NaN</td>\n",
       "      <td>0.0</td>\n",
       "      <td>0.0</td>\n",
       "      <td>2015-01-29</td>\n",
       "    </tr>\n",
       "    <tr>\n",
       "      <th>5</th>\n",
       "      <td>52211550.0</td>\n",
       "      <td>4500791.0</td>\n",
       "      <td>Y</td>\n",
       "      <td>WEST WARWICK</td>\n",
       "      <td>RI</td>\n",
       "      <td>2893.0</td>\n",
       "      <td>28933850.0</td>\n",
       "      <td>0</td>\n",
       "      <td>Y</td>\n",
       "      <td>N</td>\n",
       "      <td>...</td>\n",
       "      <td>CAMRY</td>\n",
       "      <td>AAA SNE RI  LIGHT SERVICE</td>\n",
       "      <td>mobile battery service</td>\n",
       "      <td>53.0</td>\n",
       "      <td>0.0</td>\n",
       "      <td>0.0</td>\n",
       "      <td>NaN</td>\n",
       "      <td>0.0</td>\n",
       "      <td>0.0</td>\n",
       "      <td>2015-09-25</td>\n",
       "    </tr>\n",
       "  </tbody>\n",
       "</table>\n",
       "<p>5 rows × 113 columns</p>\n",
       "</div>"
      ],
      "text/plain": [
       "   Individual Key  Household Key Member Flag          City State - Grouped  \\\n",
       "1      52211550.0      4500791.0           Y  WEST WARWICK              RI   \n",
       "2      52211550.0      4500791.0           Y  WEST WARWICK              RI   \n",
       "3      52211550.0      4500791.0           Y  WEST WARWICK              RI   \n",
       "4      52211550.0      4500791.0           Y  WEST WARWICK              RI   \n",
       "5      52211550.0      4500791.0           Y  WEST WARWICK              RI   \n",
       "\n",
       "     ZIP5        ZIP9  FSV CMSI Flag FSV Credit Card Flag  \\\n",
       "1  2893.0  28933850.0              0                    Y   \n",
       "2  2893.0  28933850.0              0                    Y   \n",
       "3  2893.0  28933850.0              0                    Y   \n",
       "4  2893.0  28933850.0              0                    Y   \n",
       "5  2893.0  28933850.0              0                    Y   \n",
       "\n",
       "  FSV Deposit Program Flag    ...     SC Vehicle Model Name  \\\n",
       "1                        N    ...                     CAMRY   \n",
       "2                        N    ...                     CAMRY   \n",
       "3                        N    ...                     CAMRY   \n",
       "4                        N    ...                     CAMRY   \n",
       "5                        N    ...                     CAMRY   \n",
       "\n",
       "           SVC Facility Name       SVC Facility Type Total Cost  \\\n",
       "1      ASTRO WRECKER SERVICE      independent repair       32.5   \n",
       "2      Astro Wrecker Service      independent repair       30.0   \n",
       "3      ASTRO WRECKER SERVICE      independent repair       32.5   \n",
       "4      ASTRO WRECKER SERVICE      independent repair       30.0   \n",
       "5  AAA SNE RI  LIGHT SERVICE  mobile battery service       53.0   \n",
       "\n",
       "  Tow Destination Latitude Tow Destination Longitude  \\\n",
       "1                     41.0                     -71.0   \n",
       "2                      0.0                       0.0   \n",
       "3                      0.0                       0.0   \n",
       "4                      0.0                       0.0   \n",
       "5                      0.0                       0.0   \n",
       "\n",
       "           Tow Destination Name Was Duplicated  Was Towed To AAR Referral  \\\n",
       "1  Aar / Johnson's Auto Service            0.0                        1.0   \n",
       "2                           NaN            0.0                        0.0   \n",
       "3                           NaN            0.0                        0.0   \n",
       "4                           NaN            0.0                        0.0   \n",
       "5                           NaN            0.0                        0.0   \n",
       "\n",
       "        Date  \n",
       "1 2017-04-13  \n",
       "2 2016-07-26  \n",
       "3 2017-02-13  \n",
       "4 2015-01-29  \n",
       "5 2015-09-25  \n",
       "\n",
       "[5 rows x 113 columns]"
      ]
     },
     "execution_count": 36,
     "metadata": {},
     "output_type": "execute_result"
    }
   ],
   "source": [
    "home_owners.head()"
   ]
  },
  {
   "cell_type": "code",
   "execution_count": 37,
   "metadata": {},
   "outputs": [
    {
     "data": {
      "text/plain": [
       "11121"
      ]
     },
     "execution_count": 37,
     "metadata": {},
     "output_type": "execute_result"
    }
   ],
   "source": [
    "home_owners['Home Owner'].count()"
   ]
  },
  {
   "cell_type": "code",
   "execution_count": 38,
   "metadata": {},
   "outputs": [
    {
     "data": {
      "text/plain": [
       "1    Home Owner\n",
       "2    Home Owner\n",
       "3    Home Owner\n",
       "4    Home Owner\n",
       "5    Home Owner\n",
       "Name: Home Owner, dtype: object"
      ]
     },
     "execution_count": 38,
     "metadata": {},
     "output_type": "execute_result"
    }
   ],
   "source": [
    "home_owners['Home Owner'].head()"
   ]
  },
  {
   "cell_type": "code",
   "execution_count": 39,
   "metadata": {},
   "outputs": [
    {
     "name": "stdout",
     "output_type": "stream",
     "text": [
      "<class 'pandas.core.frame.DataFrame'>\n",
      "Int64Index: 21344 entries, 0 to 99998\n",
      "Data columns (total 2 columns):\n",
      "Tow Destination Latitude     11813 non-null float64\n",
      "Tow Destination Longitude    11813 non-null float64\n",
      "dtypes: float64(2)\n",
      "memory usage: 500.2 KB\n"
     ]
    }
   ],
   "source": [
    "data[['Tow Destination Latitude','Tow Destination Longitude']].info()"
   ]
  },
  {
   "cell_type": "code",
   "execution_count": 40,
   "metadata": {},
   "outputs": [],
   "source": [
    "lat_long = data[['Tow Destination Latitude','Tow Destination Longitude']].dropna().iloc[:500]"
   ]
  },
  {
   "cell_type": "code",
   "execution_count": 41,
   "metadata": {},
   "outputs": [
    {
     "name": "stdout",
     "output_type": "stream",
     "text": [
      "Requirement already satisfied: folium in c:\\users\\george\\appdata\\local\\continuum\\anaconda3\\lib\\site-packages (0.10.1)\n",
      "Requirement already satisfied: requests in c:\\users\\george\\appdata\\local\\continuum\\anaconda3\\lib\\site-packages (from folium) (2.21.0)\n",
      "Requirement already satisfied: branca>=0.3.0 in c:\\users\\george\\appdata\\local\\continuum\\anaconda3\\lib\\site-packages (from folium) (0.4.0)\n",
      "Requirement already satisfied: numpy in c:\\users\\george\\appdata\\local\\continuum\\anaconda3\\lib\\site-packages (from folium) (1.15.4)\n",
      "Requirement already satisfied: jinja2>=2.9 in c:\\users\\george\\appdata\\local\\continuum\\anaconda3\\lib\\site-packages (from folium) (2.10)\n",
      "Requirement already satisfied: urllib3<1.25,>=1.21.1 in c:\\users\\george\\appdata\\local\\continuum\\anaconda3\\lib\\site-packages (from requests->folium) (1.24.1)\n",
      "Requirement already satisfied: certifi>=2017.4.17 in c:\\users\\george\\appdata\\local\\continuum\\anaconda3\\lib\\site-packages (from requests->folium) (2018.11.29)\n",
      "Requirement already satisfied: chardet<3.1.0,>=3.0.2 in c:\\users\\george\\appdata\\local\\continuum\\anaconda3\\lib\\site-packages (from requests->folium) (3.0.4)\n",
      "Requirement already satisfied: idna<2.9,>=2.5 in c:\\users\\george\\appdata\\local\\continuum\\anaconda3\\lib\\site-packages (from requests->folium) (2.8)\n",
      "Requirement already satisfied: six in c:\\users\\george\\appdata\\local\\continuum\\anaconda3\\lib\\site-packages (from branca>=0.3.0->folium) (1.12.0)\n",
      "Requirement already satisfied: MarkupSafe>=0.23 in c:\\users\\george\\appdata\\local\\continuum\\anaconda3\\lib\\site-packages (from jinja2>=2.9->folium) (1.1.0)\n"
     ]
    }
   ],
   "source": [
    "!pip install folium"
   ]
  },
  {
   "cell_type": "code",
   "execution_count": 42,
   "metadata": {},
   "outputs": [],
   "source": [
    "import folium"
   ]
  },
  {
   "cell_type": "code",
   "execution_count": 43,
   "metadata": {},
   "outputs": [],
   "source": [
    "loc_1 = lat_long.iloc[0]"
   ]
  },
  {
   "cell_type": "code",
   "execution_count": 44,
   "metadata": {},
   "outputs": [
    {
     "data": {
      "text/plain": [
       "Tow Destination Latitude     41.0\n",
       "Tow Destination Longitude   -71.0\n",
       "Name: 1, dtype: float64"
      ]
     },
     "execution_count": 44,
     "metadata": {},
     "output_type": "execute_result"
    }
   ],
   "source": [
    "loc_1.head()"
   ]
  },
  {
   "cell_type": "code",
   "execution_count": 45,
   "metadata": {},
   "outputs": [
    {
     "data": {
      "text/html": [
       "<div>\n",
       "<style scoped>\n",
       "    .dataframe tbody tr th:only-of-type {\n",
       "        vertical-align: middle;\n",
       "    }\n",
       "\n",
       "    .dataframe tbody tr th {\n",
       "        vertical-align: top;\n",
       "    }\n",
       "\n",
       "    .dataframe thead th {\n",
       "        text-align: right;\n",
       "    }\n",
       "</style>\n",
       "<table border=\"1\" class=\"dataframe\">\n",
       "  <thead>\n",
       "    <tr style=\"text-align: right;\">\n",
       "      <th></th>\n",
       "      <th>Tow Destination Latitude</th>\n",
       "      <th>Tow Destination Longitude</th>\n",
       "    </tr>\n",
       "  </thead>\n",
       "  <tbody>\n",
       "    <tr>\n",
       "      <th>0</th>\n",
       "      <td>NaN</td>\n",
       "      <td>NaN</td>\n",
       "    </tr>\n",
       "    <tr>\n",
       "      <th>1</th>\n",
       "      <td>41.0</td>\n",
       "      <td>-71.0</td>\n",
       "    </tr>\n",
       "    <tr>\n",
       "      <th>2</th>\n",
       "      <td>0.0</td>\n",
       "      <td>0.0</td>\n",
       "    </tr>\n",
       "    <tr>\n",
       "      <th>3</th>\n",
       "      <td>0.0</td>\n",
       "      <td>0.0</td>\n",
       "    </tr>\n",
       "    <tr>\n",
       "      <th>4</th>\n",
       "      <td>0.0</td>\n",
       "      <td>0.0</td>\n",
       "    </tr>\n",
       "  </tbody>\n",
       "</table>\n",
       "</div>"
      ],
      "text/plain": [
       "   Tow Destination Latitude  Tow Destination Longitude\n",
       "0                       NaN                        NaN\n",
       "1                      41.0                      -71.0\n",
       "2                       0.0                        0.0\n",
       "3                       0.0                        0.0\n",
       "4                       0.0                        0.0"
      ]
     },
     "execution_count": 45,
     "metadata": {},
     "output_type": "execute_result"
    }
   ],
   "source": [
    "loc = data[['Tow Destination Latitude','Tow Destination Longitude']]\n",
    "loc.head()"
   ]
  },
  {
   "cell_type": "code",
   "execution_count": 46,
   "metadata": {},
   "outputs": [],
   "source": [
    "m = folium.Map(location= loc_1)"
   ]
  },
  {
   "cell_type": "code",
   "execution_count": 47,
   "metadata": {},
   "outputs": [],
   "source": [
    "def add_marker(x):\n",
    "    folium.CircleMarker(location = [x[0],x[1]], radius = 10).add_to(m)"
   ]
  },
  {
   "cell_type": "code",
   "execution_count": 48,
   "metadata": {
    "scrolled": true
   },
   "outputs": [
    {
     "data": {
      "text/plain": [
       "1      None\n",
       "2      None\n",
       "3      None\n",
       "4      None\n",
       "5      None\n",
       "6      None\n",
       "7      None\n",
       "8      None\n",
       "9      None\n",
       "12     None\n",
       "13     None\n",
       "16     None\n",
       "17     None\n",
       "18     None\n",
       "19     None\n",
       "20     None\n",
       "21     None\n",
       "22     None\n",
       "23     None\n",
       "24     None\n",
       "25     None\n",
       "26     None\n",
       "27     None\n",
       "28     None\n",
       "29     None\n",
       "36     None\n",
       "41     None\n",
       "45     None\n",
       "46     None\n",
       "47     None\n",
       "       ... \n",
       "639    None\n",
       "640    None\n",
       "641    None\n",
       "642    None\n",
       "643    None\n",
       "644    None\n",
       "646    None\n",
       "647    None\n",
       "648    None\n",
       "649    None\n",
       "650    None\n",
       "651    None\n",
       "652    None\n",
       "657    None\n",
       "658    None\n",
       "659    None\n",
       "663    None\n",
       "676    None\n",
       "677    None\n",
       "681    None\n",
       "682    None\n",
       "683    None\n",
       "684    None\n",
       "685    None\n",
       "686    None\n",
       "687    None\n",
       "688    None\n",
       "689    None\n",
       "694    None\n",
       "695    None\n",
       "Length: 500, dtype: object"
      ]
     },
     "execution_count": 48,
     "metadata": {},
     "output_type": "execute_result"
    }
   ],
   "source": [
    "lat_long.apply(add_marker, axis = 1)"
   ]
  },
  {
   "cell_type": "markdown",
   "metadata": {},
   "source": [
    "## K-Means Clustering"
   ]
  },
  {
   "cell_type": "markdown",
   "metadata": {},
   "source": [
    "K-Means Clustering is an unsupervised machine learning algorithm. In contrast to traditional supervised machine learning algorithms, K-Means attempts to classify data without having first been trained with labeled data. Once the algorithm has been run and the groups are defined, any new data can be easily assigned to the most relevant group.\n",
    "The real world applications of K-Means include:\n",
    "customer profiling\n",
    "market segmentation\n",
    "computer vision\n",
    "search engines\n",
    "astronomy"
   ]
  },
  {
   "cell_type": "markdown",
   "metadata": {},
   "source": [
    "Example Coding"
   ]
  },
  {
   "cell_type": "code",
   "execution_count": 88,
   "metadata": {},
   "outputs": [
    {
     "name": "stdout",
     "output_type": "stream",
     "text": [
      "{1: [70, 7], 2: [37, 56], 3: [50, 65]}\n",
      "{1: [70, 7], 2: [37, 56], 3: [50, 65]}\n",
      "['distance_from_1', 'distance_from_2', 'distance_from_3']\n",
      "     x   y  distance_from_1  distance_from_2  distance_from_3  closest color\n",
      "0   12  19        77.233412        30.805844        49.040799        2     g\n",
      "1   10  16        80.721744        34.205263        52.497619        2     g\n",
      "2   18  10        79.397733        33.015148        51.224994        2     g\n",
      "3   18  22        70.767224        24.207437        42.520583        2     g\n",
      "4   19  14        75.742986        29.206164        47.507894        2     g\n",
      "5   13   6        85.702975        39.204592        57.489129        2     g\n",
      "6   14  25        71.840100        25.942244        43.829214        2     g\n",
      "7   75  29        41.303753        38.832976        32.649655        3     b\n",
      "8   75  33        37.336309        38.209946        30.232433        3     b\n",
      "9   72  10        60.033324        44.204072        45.650849        2     g\n",
      "10  61  26        44.911023        26.400758        26.400758        2     g\n",
      "11  72  23        47.042534        37.696154        34.828150        3     b\n",
      "12  75  28        42.296572        39.051248        33.301652        3     b\n",
      "13  73  23        47.095647        38.626416        35.468296        3     b\n",
      "14  75  14        56.222771        44.418465        43.829214        3     b\n",
      "15  71  18        52.009614        38.948684        38.275318        3     b\n",
      "16  74  69         4.123106        48.918299        30.610456        1     r\n",
      "17  79  77        11.401754        58.000000        39.623226        1     r\n",
      "18  72  64         6.324555        44.204072        26.076810        1     r\n",
      "19  75  77         8.602325        55.172457        36.796739        1     r\n",
      "20  76  78        10.000000        56.586217        38.209946        1     r\n",
      "21  77  69         7.071068        51.224994        33.015148        1     r\n",
      "{1: [70, 7], 2: [37, 56], 3: [50, 65]}\n",
      "before update\n",
      "{1: [70, 7], 2: [37, 56], 3: [50, 65]}\n",
      "after update\n",
      "{1: [75.5, 72.33333333333333], 2: [26.333333333333332, 16.444444444444443], 3: [73.71428571428571, 24.0]}\n",
      "0     2\n",
      "1     2\n",
      "2     2\n",
      "3     2\n",
      "4     2\n",
      "5     2\n",
      "6     2\n",
      "7     3\n",
      "8     3\n",
      "9     2\n",
      "10    2\n",
      "11    3\n",
      "12    3\n",
      "13    3\n",
      "14    3\n",
      "15    3\n",
      "16    1\n",
      "17    1\n",
      "18    1\n",
      "19    1\n",
      "20    1\n",
      "21    1\n",
      "Name: closest, dtype: int64\n",
      "['distance_from_1', 'distance_from_2', 'distance_from_3']\n",
      "before update\n",
      "{1: [75.5, 72.33333333333333], 2: [26.333333333333332, 16.444444444444443], 3: [73.71428571428571, 24.0]}\n",
      "after update\n",
      "{1: [76.66666666666667, 77.33333333333333], 2: [40.61538461538461, 17.384615384615383], 3: [74.66666666666667, 48.666666666666664]}\n",
      "0     2\n",
      "1     2\n",
      "2     2\n",
      "3     2\n",
      "4     2\n",
      "5     2\n",
      "6     2\n",
      "7     3\n",
      "8     3\n",
      "9     2\n",
      "10    2\n",
      "11    2\n",
      "12    3\n",
      "13    2\n",
      "14    2\n",
      "15    2\n",
      "16    3\n",
      "17    1\n",
      "18    3\n",
      "19    1\n",
      "20    1\n",
      "21    3\n",
      "Name: closest, dtype: int64\n",
      "['distance_from_1', 'distance_from_2', 'distance_from_3']\n",
      "before update\n",
      "{1: [76.66666666666667, 77.33333333333333], 2: [40.61538461538461, 17.384615384615383], 3: [74.66666666666667, 48.666666666666664]}\n",
      "after update\n",
      "{1: [76.66666666666667, 77.33333333333333], 2: [47.0625, 19.75], 3: [74.33333333333333, 67.33333333333333]}\n",
      "0     2\n",
      "1     2\n",
      "2     2\n",
      "3     2\n",
      "4     2\n",
      "5     2\n",
      "6     2\n",
      "7     2\n",
      "8     2\n",
      "9     2\n",
      "10    2\n",
      "11    2\n",
      "12    2\n",
      "13    2\n",
      "14    2\n",
      "15    2\n",
      "16    3\n",
      "17    1\n",
      "18    3\n",
      "19    1\n",
      "20    1\n",
      "21    3\n",
      "Name: closest, dtype: int64\n",
      "['distance_from_1', 'distance_from_2', 'distance_from_3']\n"
     ]
    },
    {
     "data": {
      "image/png": "[encoded data removed]",
      "text/plain": [
       "<Figure size 360x360 with 1 Axes>"
      ]
     },
     "metadata": {
      "needs_background": "light"
     },
     "output_type": "display_data"
    }
   ],
   "source": [
    "kmdf = pd.DataFrame ({\n",
    "    'x' : [12,10,18,18,19,13,14,75,75,72,61,72,75,73,75,71,74,79,72,75,76,77],\n",
    "    'y' : [19,16,10,22,14,6,25,29,33,10,26,23,28,23,14,18,69,77,64,77,78,69]\n",
    "})\n",
    "\n",
    "np.random.seed(40)\n",
    "\n",
    "k = 3\n",
    "centroids = { \n",
    "i+1: [np.random.randint(0,80),np.random.randint(0,80)] for i in range(k)\n",
    "}\n",
    "\n",
    "print(centroids)\n",
    "\n",
    "def assignment(kmdf,centroids):\n",
    "    for i in centroids.keys():\n",
    "        kmdf['distance_from_{}'.format(i)] = (\n",
    "            np.sqrt(\n",
    "                (kmdf['x'] - centroids[i][0]) ** 2 + (kmdf['y'] - centroids[i][0]) ** 2 \n",
    "            )\n",
    "        )\n",
    "    centroid_distance_cols = ['distance_from_{}'.format(i) for i in centroids.keys()]\n",
    "    print(centroid_distance_cols)\n",
    "    kmdf['closest'] =  kmdf.loc[:,centroid_distance_cols].idxmin(axis=1)\n",
    "    #print(kmdf.head())\n",
    "    #print(kmdf['closest'])\n",
    "    kmdf['closest'] = kmdf['closest'].map(lambda x: int(x.lstrip('distance_from_')))\n",
    "    kmdf['color'] = kmdf['closest'].map(lambda x: colmap[x])\n",
    "    return kmdf\n",
    "print(centroids)\n",
    "colmap = { 1:'r', 2:'g', 3: 'b', 4:'y'}\n",
    "kmdf =assignment(kmdf,centroids)\n",
    "print(kmdf)\n",
    "\n",
    "import copy\n",
    "old_centroids = copy.deepcopy(centroids)\n",
    "\n",
    "print(old_centroids)\n",
    "\n",
    "def update(k):\n",
    "    print(\"before update\")\n",
    "    print(k)\n",
    "    for i in k.keys():\n",
    "        k[i][0] = np.mean(kmdf[kmdf['closest'] == i]['x'])\n",
    "        k[i][1] = np.mean(kmdf[kmdf['closest'] == i]['y'])\n",
    "    print(\"after update\")\n",
    "    print(k)\n",
    "    return k\n",
    "#centroids = update(centroids)\n",
    "#print(centroids)\n",
    "\n",
    "while True:\n",
    "    closest_centroids = kmdf['closest'].copy(deep=True)\n",
    "    centroids = update(centroids)\n",
    "    print(closest_centroids)\n",
    "    kmdf = assignment(kmdf,centroids)\n",
    "    if closest_centroids.equals(kmdf['closest']):\n",
    "        break\n",
    "    \n",
    "\n",
    "fig = plt.figure(figsize=(5,5))\n",
    "ax = plt.axes()\n",
    "plt.scatter(kmdf['x'],kmdf['y'],color =kmdf['color'], alpha = 0.5, edgecolor='k')\n",
    "\n",
    "for i in centroids.keys():\n",
    "    plt.scatter(*centroids[i],color=colmap[i])\n",
    "plt.xlim(0,80)\n",
    "plt.ylim(0,80)\n",
    "\n",
    "for i in old_centroids.keys():\n",
    "    old_x = old_centroids[i][0]\n",
    "    old_y = old_centroids[i][1]\n",
    "    dx = ( centroids[i][0] - old_centroids[i][0]) * 0.75\n",
    "    dy = ( centroids[i][1] - old_centroids[i][1]) * 0.75\n",
    "    ax.arrow(old_x,old_y, dx,dy, head_width = 2 , head_length = 3, fc=colmap[i], ec=colmap[i])\n",
    "\n",
    "plt.show()\n",
    "\n",
    "\n",
    "   \n"
   ]
  },
  {
   "cell_type": "markdown",
   "metadata": {},
   "source": [
    "### KMeans using sklearn :"
   ]
  },
  {
   "cell_type": "code",
   "execution_count": 78,
   "metadata": {},
   "outputs": [
    {
     "data": {
      "text/plain": [
       "KMeans(algorithm='auto', copy_x=True, init='k-means++', max_iter=300,\n",
       "    n_clusters=3, n_init=10, n_jobs=None, precompute_distances='auto',\n",
       "    random_state=None, tol=0.0001, verbose=0)"
      ]
     },
     "execution_count": 78,
     "metadata": {},
     "output_type": "execute_result"
    }
   ],
   "source": [
    "kmdf = pd.DataFrame ({\n",
    "    'x' : [12,10,18,18,19,13,14,75,75,72,61,72,75,73,75,71,74,79,72,75,76,77],\n",
    "    'y' : [19,16,10,22,14,6,25,29,33,10,26,23,28,23,14,18,69,77,64,77,78,69]\n",
    "})\n",
    "\n",
    "from sklearn.cluster import KMeans\n",
    "kmeans = KMeans(n_clusters = 3)\n",
    "kmeans.fit(kmdf)\n"
   ]
  },
  {
   "cell_type": "code",
   "execution_count": 80,
   "metadata": {},
   "outputs": [],
   "source": [
    "labels =kmeans.predict(kmdf)\n",
    "centroids = kmeans.cluster_centers_\n"
   ]
  },
  {
   "cell_type": "code",
   "execution_count": 86,
   "metadata": {},
   "outputs": [
    {
     "name": "stdout",
     "output_type": "stream",
     "text": [
      "[1 1 1 1 1 1 1 2 2 2 2 2 2 2 2 2 0 0 0 0 0 0]\n",
      "['g', 'g', 'g', 'g', 'g', 'g', 'g', 'b', 'b', 'b', 'b', 'b', 'b', 'b', 'b', 'b', 'r', 'r', 'r', 'r', 'r', 'r']\n"
     ]
    },
    {
     "data": {
      "image/png": "[encoded data removed]",
      "text/plain": [
       "<Figure size 360x360 with 1 Axes>"
      ]
     },
     "metadata": {
      "needs_background": "light"
     },
     "output_type": "display_data"
    }
   ],
   "source": [
    "print(labels)\n",
    "colors = map(lambda x: colmap[x+1],labels)\n",
    "colors1 = list(colors)\n",
    "print(colors1)\n",
    "fig = plt.figure(figsize=(5,5))\n",
    "ax = plt.axes()\n",
    "plt.scatter(kmdf['x'],kmdf['y'],color =colors1, alpha = 0.5, edgecolor='k')\n",
    "\n",
    "for idx,centroid in enumerate(centroids):\n",
    "    plt.scatter(*centroids ,color=colmap[idx+1])\n",
    "plt.xlim(0,80)\n",
    "plt.ylim(0,80)\n",
    "plt.show()"
   ]
  },
  {
   "cell_type": "code",
   "execution_count": null,
   "metadata": {
    "scrolled": true
   },
   "outputs": [],
   "source": [
    "#m1 = folium.Map(Location=[48.2,16.3], zoom_start =4)\n",
    "#m1"
   ]
  },
  {
   "cell_type": "code",
   "execution_count": null,
   "metadata": {},
   "outputs": [],
   "source": [
    "from sklearn.cluster import KMeans"
   ]
  },
  {
   "cell_type": "code",
   "execution_count": null,
   "metadata": {},
   "outputs": [],
   "source": [
    "X = pd.get_dummies(data[['Total Cost', 'SC Vehicle Manufacturer Name']].dropna())"
   ]
  },
  {
   "cell_type": "code",
   "execution_count": null,
   "metadata": {},
   "outputs": [],
   "source": [
    "X.head()"
   ]
  },
  {
   "cell_type": "code",
   "execution_count": null,
   "metadata": {},
   "outputs": [],
   "source": []
  },
  {
   "cell_type": "code",
   "execution_count": null,
   "metadata": {},
   "outputs": [],
   "source": [
    "kmeans = KMeans(n_clusters = 4)"
   ]
  },
  {
   "cell_type": "code",
   "execution_count": null,
   "metadata": {},
   "outputs": [],
   "source": [
    "kmeans.fit(X)"
   ]
  },
  {
   "cell_type": "code",
   "execution_count": null,
   "metadata": {},
   "outputs": [],
   "source": [
    "X['Label'] = kmeans.labels_"
   ]
  },
  {
   "cell_type": "code",
   "execution_count": null,
   "metadata": {},
   "outputs": [],
   "source": [
    "X.head()"
   ]
  },
  {
   "cell_type": "code",
   "execution_count": null,
   "metadata": {},
   "outputs": [],
   "source": [
    "X.groupby('label').mean()"
   ]
  },
  {
   "cell_type": "code",
   "execution_count": null,
   "metadata": {},
   "outputs": [],
   "source": [
    "X.groupby('label').mean().iloc[1].sort_values()"
   ]
  },
  {
   "cell_type": "code",
   "execution_count": null,
   "metadata": {},
   "outputs": [],
   "source": [
    "data['FSV Mortgage Flag'].value_counts()"
   ]
  }
 ],
 "metadata": {
  "kernelspec": {
   "display_name": "Python 3",
   "language": "python",
   "name": "python3"
  },
  "language_info": {
   "codemirror_mode": {
    "name": "ipython",
    "version": 3
   },
   "file_extension": ".py",
   "mimetype": "text/x-python",
   "name": "python",
   "nbconvert_exporter": "python",
   "pygments_lexer": "ipython3",
   "version": "3.7.1"
  }
 },
 "nbformat": 4,
 "nbformat_minor": 2
}
