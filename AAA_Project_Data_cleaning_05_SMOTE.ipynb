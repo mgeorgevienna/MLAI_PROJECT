{
 "cells": [
  {
   "cell_type": "markdown",
   "metadata": {},
   "source": [
    "# EDA No. 5  AAA Project Martin George mgeorgevienna@gmail.com"
   ]
  },
  {
   "cell_type": "code",
   "execution_count": 1,
   "metadata": {},
   "outputs": [],
   "source": [
    "%matplotlib inline\n",
    "import matplotlib.pyplot as plt\n",
    "import numpy as np\n",
    "import pandas as pd\n",
    "df = pd.read_csv('member_sample.csv', index_col = 0)"
   ]
  },
  {
   "cell_type": "markdown",
   "metadata": {},
   "source": [
    "# Application of classification model on AAA data\n",
    "# Usage of SMOTE library to oversampling when imbalanced samples exists."
   ]
  },
  {
   "cell_type": "code",
   "execution_count": 2,
   "metadata": {},
   "outputs": [
    {
     "name": "stdout",
     "output_type": "stream",
     "text": [
      "<class 'pandas.core.frame.DataFrame'>\n",
      "Int64Index: 21344 entries, 0 to 99998\n",
      "Columns: 112 entries, Individual Key to Was Towed To AAR Referral\n",
      "dtypes: float64(35), object(77)\n",
      "memory usage: 18.4+ MB\n"
     ]
    },
    {
     "data": {
      "text/plain": [
       "Index(['Individual Key', 'Household Key', 'Member Flag', 'City',\n",
       "       'State - Grouped', 'ZIP5', 'ZIP9', 'FSV CMSI Flag',\n",
       "       'FSV Credit Card Flag', 'FSV Deposit Program Flag',\n",
       "       ...\n",
       "       'SC Vehicle Manufacturer Name', 'SC Vehicle Model Name',\n",
       "       'SVC Facility Name', 'SVC Facility Type', 'Total Cost',\n",
       "       'Tow Destination Latitude', 'Tow Destination Longitude',\n",
       "       'Tow Destination Name', 'Was Duplicated', 'Was Towed To AAR Referral'],\n",
       "      dtype='object', length=112)"
      ]
     },
     "execution_count": 2,
     "metadata": {},
     "output_type": "execute_result"
    }
   ],
   "source": [
    "df.head()\n",
    "df.info()\n",
    "df.columns"
   ]
  },
  {
   "cell_type": "code",
   "execution_count": 3,
   "metadata": {},
   "outputs": [
    {
     "data": {
      "text/html": [
       "<div>\n",
       "<style scoped>\n",
       "    .dataframe tbody tr th:only-of-type {\n",
       "        vertical-align: middle;\n",
       "    }\n",
       "\n",
       "    .dataframe tbody tr th {\n",
       "        vertical-align: top;\n",
       "    }\n",
       "\n",
       "    .dataframe thead th {\n",
       "        text-align: right;\n",
       "    }\n",
       "</style>\n",
       "<table border=\"1\" class=\"dataframe\">\n",
       "  <thead>\n",
       "    <tr style=\"text-align: right;\">\n",
       "      <th></th>\n",
       "      <th>Individual Key</th>\n",
       "      <th>Household Key</th>\n",
       "      <th>Member Flag</th>\n",
       "      <th>City</th>\n",
       "      <th>State - Grouped</th>\n",
       "      <th>ZIP5</th>\n",
       "      <th>ZIP9</th>\n",
       "      <th>FSV CMSI Flag</th>\n",
       "      <th>FSV Credit Card Flag</th>\n",
       "      <th>FSV Deposit Program Flag</th>\n",
       "      <th>...</th>\n",
       "      <th>SC Vehicle Manufacturer Name</th>\n",
       "      <th>SC Vehicle Model Name</th>\n",
       "      <th>SVC Facility Name</th>\n",
       "      <th>SVC Facility Type</th>\n",
       "      <th>Total Cost</th>\n",
       "      <th>Tow Destination Latitude</th>\n",
       "      <th>Tow Destination Longitude</th>\n",
       "      <th>Tow Destination Name</th>\n",
       "      <th>Was Duplicated</th>\n",
       "      <th>Was Towed To AAR Referral</th>\n",
       "    </tr>\n",
       "  </thead>\n",
       "  <tbody>\n",
       "    <tr>\n",
       "      <th>0</th>\n",
       "      <td>10000003.0</td>\n",
       "      <td>10462590.0</td>\n",
       "      <td>Y</td>\n",
       "      <td>NEW HAVEN</td>\n",
       "      <td>CT</td>\n",
       "      <td>6511.0</td>\n",
       "      <td>65111349.0</td>\n",
       "      <td>N</td>\n",
       "      <td>N</td>\n",
       "      <td>N</td>\n",
       "      <td>...</td>\n",
       "      <td>NaN</td>\n",
       "      <td>NaN</td>\n",
       "      <td>NaN</td>\n",
       "      <td>NaN</td>\n",
       "      <td>NaN</td>\n",
       "      <td>NaN</td>\n",
       "      <td>NaN</td>\n",
       "      <td>NaN</td>\n",
       "      <td>NaN</td>\n",
       "      <td>NaN</td>\n",
       "    </tr>\n",
       "    <tr>\n",
       "      <th>1</th>\n",
       "      <td>52211550.0</td>\n",
       "      <td>4500791.0</td>\n",
       "      <td>Y</td>\n",
       "      <td>WEST WARWICK</td>\n",
       "      <td>RI</td>\n",
       "      <td>2893.0</td>\n",
       "      <td>28933850.0</td>\n",
       "      <td>N</td>\n",
       "      <td>Y</td>\n",
       "      <td>N</td>\n",
       "      <td>...</td>\n",
       "      <td>TOYOTA</td>\n",
       "      <td>CAMRY</td>\n",
       "      <td>ASTRO WRECKER SERVICE</td>\n",
       "      <td>independent repair</td>\n",
       "      <td>32.5</td>\n",
       "      <td>41.0</td>\n",
       "      <td>-71.0</td>\n",
       "      <td>Aar / Johnson's Auto Service</td>\n",
       "      <td>0.0</td>\n",
       "      <td>1.0</td>\n",
       "    </tr>\n",
       "    <tr>\n",
       "      <th>2</th>\n",
       "      <td>52211550.0</td>\n",
       "      <td>4500791.0</td>\n",
       "      <td>Y</td>\n",
       "      <td>WEST WARWICK</td>\n",
       "      <td>RI</td>\n",
       "      <td>2893.0</td>\n",
       "      <td>28933850.0</td>\n",
       "      <td>N</td>\n",
       "      <td>Y</td>\n",
       "      <td>N</td>\n",
       "      <td>...</td>\n",
       "      <td>TOYOTA</td>\n",
       "      <td>CAMRY</td>\n",
       "      <td>Astro Wrecker Service</td>\n",
       "      <td>independent repair</td>\n",
       "      <td>30.0</td>\n",
       "      <td>0.0</td>\n",
       "      <td>0.0</td>\n",
       "      <td>NaN</td>\n",
       "      <td>0.0</td>\n",
       "      <td>0.0</td>\n",
       "    </tr>\n",
       "    <tr>\n",
       "      <th>3</th>\n",
       "      <td>52211550.0</td>\n",
       "      <td>4500791.0</td>\n",
       "      <td>Y</td>\n",
       "      <td>WEST WARWICK</td>\n",
       "      <td>RI</td>\n",
       "      <td>2893.0</td>\n",
       "      <td>28933850.0</td>\n",
       "      <td>N</td>\n",
       "      <td>Y</td>\n",
       "      <td>N</td>\n",
       "      <td>...</td>\n",
       "      <td>TOYOTA</td>\n",
       "      <td>CAMRY</td>\n",
       "      <td>ASTRO WRECKER SERVICE</td>\n",
       "      <td>independent repair</td>\n",
       "      <td>32.5</td>\n",
       "      <td>0.0</td>\n",
       "      <td>0.0</td>\n",
       "      <td>NaN</td>\n",
       "      <td>0.0</td>\n",
       "      <td>0.0</td>\n",
       "    </tr>\n",
       "    <tr>\n",
       "      <th>4</th>\n",
       "      <td>52211550.0</td>\n",
       "      <td>4500791.0</td>\n",
       "      <td>Y</td>\n",
       "      <td>WEST WARWICK</td>\n",
       "      <td>RI</td>\n",
       "      <td>2893.0</td>\n",
       "      <td>28933850.0</td>\n",
       "      <td>N</td>\n",
       "      <td>Y</td>\n",
       "      <td>N</td>\n",
       "      <td>...</td>\n",
       "      <td>TOYOTA</td>\n",
       "      <td>CAMRY</td>\n",
       "      <td>ASTRO WRECKER SERVICE</td>\n",
       "      <td>independent repair</td>\n",
       "      <td>30.0</td>\n",
       "      <td>0.0</td>\n",
       "      <td>0.0</td>\n",
       "      <td>NaN</td>\n",
       "      <td>0.0</td>\n",
       "      <td>0.0</td>\n",
       "    </tr>\n",
       "  </tbody>\n",
       "</table>\n",
       "<p>5 rows × 112 columns</p>\n",
       "</div>"
      ],
      "text/plain": [
       "   Individual Key  Household Key Member Flag          City State - Grouped  \\\n",
       "0      10000003.0     10462590.0           Y     NEW HAVEN              CT   \n",
       "1      52211550.0      4500791.0           Y  WEST WARWICK              RI   \n",
       "2      52211550.0      4500791.0           Y  WEST WARWICK              RI   \n",
       "3      52211550.0      4500791.0           Y  WEST WARWICK              RI   \n",
       "4      52211550.0      4500791.0           Y  WEST WARWICK              RI   \n",
       "\n",
       "     ZIP5        ZIP9 FSV CMSI Flag FSV Credit Card Flag  \\\n",
       "0  6511.0  65111349.0             N                    N   \n",
       "1  2893.0  28933850.0             N                    Y   \n",
       "2  2893.0  28933850.0             N                    Y   \n",
       "3  2893.0  28933850.0             N                    Y   \n",
       "4  2893.0  28933850.0             N                    Y   \n",
       "\n",
       "  FSV Deposit Program Flag  ... SC Vehicle Manufacturer Name  \\\n",
       "0                        N  ...                          NaN   \n",
       "1                        N  ...                       TOYOTA   \n",
       "2                        N  ...                       TOYOTA   \n",
       "3                        N  ...                       TOYOTA   \n",
       "4                        N  ...                       TOYOTA   \n",
       "\n",
       "  SC Vehicle Model Name      SVC Facility Name   SVC Facility Type Total Cost  \\\n",
       "0                   NaN                    NaN                 NaN        NaN   \n",
       "1                 CAMRY  ASTRO WRECKER SERVICE  independent repair       32.5   \n",
       "2                 CAMRY  Astro Wrecker Service  independent repair       30.0   \n",
       "3                 CAMRY  ASTRO WRECKER SERVICE  independent repair       32.5   \n",
       "4                 CAMRY  ASTRO WRECKER SERVICE  independent repair       30.0   \n",
       "\n",
       "  Tow Destination Latitude Tow Destination Longitude  \\\n",
       "0                      NaN                       NaN   \n",
       "1                     41.0                     -71.0   \n",
       "2                      0.0                       0.0   \n",
       "3                      0.0                       0.0   \n",
       "4                      0.0                       0.0   \n",
       "\n",
       "           Tow Destination Name  Was Duplicated Was Towed To AAR Referral  \n",
       "0                           NaN             NaN                       NaN  \n",
       "1  Aar / Johnson's Auto Service             0.0                       1.0  \n",
       "2                           NaN             0.0                       0.0  \n",
       "3                           NaN             0.0                       0.0  \n",
       "4                           NaN             0.0                       0.0  \n",
       "\n",
       "[5 rows x 112 columns]"
      ]
     },
     "execution_count": 3,
     "metadata": {},
     "output_type": "execute_result"
    }
   ],
   "source": [
    "df.head()"
   ]
  },
  {
   "cell_type": "code",
   "execution_count": 4,
   "metadata": {},
   "outputs": [
    {
     "data": {
      "text/html": [
       "<div>\n",
       "<style scoped>\n",
       "    .dataframe tbody tr th:only-of-type {\n",
       "        vertical-align: middle;\n",
       "    }\n",
       "\n",
       "    .dataframe tbody tr th {\n",
       "        vertical-align: top;\n",
       "    }\n",
       "\n",
       "    .dataframe thead th {\n",
       "        text-align: right;\n",
       "    }\n",
       "</style>\n",
       "<table border=\"1\" class=\"dataframe\">\n",
       "  <thead>\n",
       "    <tr style=\"text-align: right;\">\n",
       "      <th></th>\n",
       "      <th>Individual Key</th>\n",
       "      <th>Household Key</th>\n",
       "      <th>ZIP5</th>\n",
       "      <th>ZIP9</th>\n",
       "      <th>Length Of Residence</th>\n",
       "      <th>Do Not Direct Mail Solicit</th>\n",
       "      <th>Email Available</th>\n",
       "      <th>ERS ENT Count Year 1</th>\n",
       "      <th>ERS ENT Count Year 2</th>\n",
       "      <th>ERS ENT Count Year 3</th>\n",
       "      <th>...</th>\n",
       "      <th>Member Match Flag</th>\n",
       "      <th>Member Number and Associate ID</th>\n",
       "      <th>Plus Cost</th>\n",
       "      <th>Premier Cost</th>\n",
       "      <th>Rec ID</th>\n",
       "      <th>Total Cost</th>\n",
       "      <th>Tow Destination Latitude</th>\n",
       "      <th>Tow Destination Longitude</th>\n",
       "      <th>Was Duplicated</th>\n",
       "      <th>Was Towed To AAR Referral</th>\n",
       "    </tr>\n",
       "    <tr>\n",
       "      <th>FSV CMSI Flag</th>\n",
       "      <th></th>\n",
       "      <th></th>\n",
       "      <th></th>\n",
       "      <th></th>\n",
       "      <th></th>\n",
       "      <th></th>\n",
       "      <th></th>\n",
       "      <th></th>\n",
       "      <th></th>\n",
       "      <th></th>\n",
       "      <th></th>\n",
       "      <th></th>\n",
       "      <th></th>\n",
       "      <th></th>\n",
       "      <th></th>\n",
       "      <th></th>\n",
       "      <th></th>\n",
       "      <th></th>\n",
       "      <th></th>\n",
       "      <th></th>\n",
       "      <th></th>\n",
       "    </tr>\n",
       "  </thead>\n",
       "  <tbody>\n",
       "    <tr>\n",
       "      <th>N</th>\n",
       "      <td>3.403291e+07</td>\n",
       "      <td>1.600860e+07</td>\n",
       "      <td>2947.671848</td>\n",
       "      <td>2.948020e+07</td>\n",
       "      <td>11.552839</td>\n",
       "      <td>0.054041</td>\n",
       "      <td>0.52604</td>\n",
       "      <td>0.517824</td>\n",
       "      <td>0.921864</td>\n",
       "      <td>0.952447</td>\n",
       "      <td>...</td>\n",
       "      <td>1.0</td>\n",
       "      <td>1.091986e+07</td>\n",
       "      <td>3.445604</td>\n",
       "      <td>0.007301</td>\n",
       "      <td>7.547582e+06</td>\n",
       "      <td>47.235372</td>\n",
       "      <td>15.061851</td>\n",
       "      <td>-26.004476</td>\n",
       "      <td>0.065296</td>\n",
       "      <td>0.013603</td>\n",
       "    </tr>\n",
       "    <tr>\n",
       "      <th>Y</th>\n",
       "      <td>2.398762e+07</td>\n",
       "      <td>1.515128e+07</td>\n",
       "      <td>2885.457413</td>\n",
       "      <td>2.885794e+07</td>\n",
       "      <td>11.088766</td>\n",
       "      <td>0.027340</td>\n",
       "      <td>0.75184</td>\n",
       "      <td>0.531746</td>\n",
       "      <td>1.193878</td>\n",
       "      <td>1.090703</td>\n",
       "      <td>...</td>\n",
       "      <td>1.0</td>\n",
       "      <td>1.071187e+07</td>\n",
       "      <td>3.543250</td>\n",
       "      <td>0.000000</td>\n",
       "      <td>7.923508e+06</td>\n",
       "      <td>47.935754</td>\n",
       "      <td>16.165954</td>\n",
       "      <td>-27.896361</td>\n",
       "      <td>0.062745</td>\n",
       "      <td>0.014379</td>\n",
       "    </tr>\n",
       "  </tbody>\n",
       "</table>\n",
       "<p>2 rows × 35 columns</p>\n",
       "</div>"
      ],
      "text/plain": [
       "               Individual Key  Household Key         ZIP5          ZIP9  \\\n",
       "FSV CMSI Flag                                                             \n",
       "N                3.403291e+07   1.600860e+07  2947.671848  2.948020e+07   \n",
       "Y                2.398762e+07   1.515128e+07  2885.457413  2.885794e+07   \n",
       "\n",
       "               Length Of Residence  Do Not Direct Mail Solicit  \\\n",
       "FSV CMSI Flag                                                    \n",
       "N                        11.552839                    0.054041   \n",
       "Y                        11.088766                    0.027340   \n",
       "\n",
       "               Email Available  ERS ENT Count Year 1  ERS ENT Count Year 2  \\\n",
       "FSV CMSI Flag                                                                \n",
       "N                      0.52604              0.517824              0.921864   \n",
       "Y                      0.75184              0.531746              1.193878   \n",
       "\n",
       "               ERS ENT Count Year 3  ...  Member Match Flag  \\\n",
       "FSV CMSI Flag                        ...                      \n",
       "N                          0.952447  ...                1.0   \n",
       "Y                          1.090703  ...                1.0   \n",
       "\n",
       "               Member Number and Associate ID  Plus Cost  Premier Cost  \\\n",
       "FSV CMSI Flag                                                            \n",
       "N                                1.091986e+07   3.445604      0.007301   \n",
       "Y                                1.071187e+07   3.543250      0.000000   \n",
       "\n",
       "                     Rec ID  Total Cost  Tow Destination Latitude  \\\n",
       "FSV CMSI Flag                                                       \n",
       "N              7.547582e+06   47.235372                 15.061851   \n",
       "Y              7.923508e+06   47.935754                 16.165954   \n",
       "\n",
       "               Tow Destination Longitude  Was Duplicated  \\\n",
       "FSV CMSI Flag                                              \n",
       "N                             -26.004476        0.065296   \n",
       "Y                             -27.896361        0.062745   \n",
       "\n",
       "               Was Towed To AAR Referral  \n",
       "FSV CMSI Flag                             \n",
       "N                               0.013603  \n",
       "Y                               0.014379  \n",
       "\n",
       "[2 rows x 35 columns]"
      ]
     },
     "execution_count": 4,
     "metadata": {},
     "output_type": "execute_result"
    }
   ],
   "source": [
    "df.groupby('FSV CMSI Flag').mean()"
   ]
  },
  {
   "cell_type": "markdown",
   "metadata": {},
   "source": [
    "# Python library SMOTE can be also used to populate samples"
   ]
  },
  {
   "cell_type": "code",
   "execution_count": 5,
   "metadata": {},
   "outputs": [
    {
     "data": {
      "text/plain": [
       "N    0.955444\n",
       "Y    0.044556\n",
       "Name: FSV CMSI Flag, dtype: float64"
      ]
     },
     "execution_count": 5,
     "metadata": {},
     "output_type": "execute_result"
    }
   ],
   "source": [
    "df['FSV CMSI Flag'].value_counts(normalize = True)"
   ]
  },
  {
   "cell_type": "code",
   "execution_count": 6,
   "metadata": {},
   "outputs": [],
   "source": [
    "yes = df.loc[df['FSV CMSI Flag'] == 'Y']"
   ]
  },
  {
   "cell_type": "code",
   "execution_count": 7,
   "metadata": {},
   "outputs": [],
   "source": [
    "no = df.loc[df['FSV CMSI Flag'] == 'N']"
   ]
  },
  {
   "cell_type": "code",
   "execution_count": 8,
   "metadata": {},
   "outputs": [],
   "source": [
    "no_sample = no.sample(951)"
   ]
  },
  {
   "cell_type": "code",
   "execution_count": 9,
   "metadata": {},
   "outputs": [],
   "source": [
    "combined = pd.concat( [yes, no_sample]).dropna(subset = ['Total Cost'])"
   ]
  },
  {
   "cell_type": "code",
   "execution_count": 10,
   "metadata": {},
   "outputs": [
    {
     "data": {
      "text/plain": [
       "(1359, 112)"
      ]
     },
     "execution_count": 10,
     "metadata": {},
     "output_type": "execute_result"
    }
   ],
   "source": [
    "combined.shape"
   ]
  },
  {
   "cell_type": "code",
   "execution_count": 11,
   "metadata": {},
   "outputs": [
    {
     "data": {
      "text/plain": [
       "Y    763\n",
       "N    596\n",
       "Name: FSV CMSI Flag, dtype: int64"
      ]
     },
     "execution_count": 11,
     "metadata": {},
     "output_type": "execute_result"
    }
   ],
   "source": [
    "combined['FSV CMSI Flag']. value_counts()"
   ]
  },
  {
   "cell_type": "code",
   "execution_count": 12,
   "metadata": {},
   "outputs": [],
   "source": [
    "X = combined[['Total Cost']]\n",
    "y = combined[['FSV CMSI Flag']]"
   ]
  },
  {
   "cell_type": "code",
   "execution_count": 13,
   "metadata": {},
   "outputs": [
    {
     "data": {
      "text/plain": [
       "(1359, 1)"
      ]
     },
     "execution_count": 13,
     "metadata": {},
     "output_type": "execute_result"
    }
   ],
   "source": [
    "X.shape"
   ]
  },
  {
   "cell_type": "code",
   "execution_count": 14,
   "metadata": {},
   "outputs": [
    {
     "data": {
      "text/plain": [
       "(1359, 1)"
      ]
     },
     "execution_count": 14,
     "metadata": {},
     "output_type": "execute_result"
    }
   ],
   "source": [
    "y.shape"
   ]
  },
  {
   "cell_type": "code",
   "execution_count": 15,
   "metadata": {},
   "outputs": [],
   "source": [
    "from sklearn.linear_model import LogisticRegression"
   ]
  },
  {
   "cell_type": "code",
   "execution_count": 16,
   "metadata": {},
   "outputs": [],
   "source": [
    "lgr = LogisticRegression()"
   ]
  },
  {
   "cell_type": "code",
   "execution_count": 17,
   "metadata": {},
   "outputs": [
    {
     "name": "stdout",
     "output_type": "stream",
     "text": [
      "Number transactions X_train dataset:  (951, 1)\n",
      "Number transactions y_train dataset:  (951, 1)\n",
      "Number transactions X_test dataset:  (408, 1)\n",
      "Number transactions y_test dataset:  (408, 1)\n"
     ]
    }
   ],
   "source": [
    "from sklearn.model_selection import train_test_split \n",
    "  \n",
    "# split into 70:30 ration \n",
    "X_train, X_test, y_train, y_test = train_test_split(X, y, test_size = 0.3, random_state = 0) \n",
    "  \n",
    "# describes info about train and test set \n",
    "print(\"Number transactions X_train dataset: \", X_train.shape) \n",
    "print(\"Number transactions y_train dataset: \", y_train.shape) \n",
    "print(\"Number transactions X_test dataset: \", X_test.shape) \n",
    "print(\"Number transactions y_test dataset: \", y_test.shape) \n"
   ]
  },
  {
   "cell_type": "code",
   "execution_count": 18,
   "metadata": {},
   "outputs": [
    {
     "name": "stderr",
     "output_type": "stream",
     "text": [
      "C:\\Users\\unodc\\anaconda3\\lib\\site-packages\\sklearn\\utils\\validation.py:760: DataConversionWarning: A column-vector y was passed when a 1d array was expected. Please change the shape of y to (n_samples, ), for example using ravel().\n",
      "  y = column_or_1d(y, warn=True)\n"
     ]
    },
    {
     "data": {
      "text/plain": [
       "LogisticRegression(C=1.0, class_weight=None, dual=False, fit_intercept=True,\n",
       "                   intercept_scaling=1, l1_ratio=None, max_iter=100,\n",
       "                   multi_class='auto', n_jobs=None, penalty='l2',\n",
       "                   random_state=None, solver='lbfgs', tol=0.0001, verbose=0,\n",
       "                   warm_start=False)"
      ]
     },
     "execution_count": 18,
     "metadata": {},
     "output_type": "execute_result"
    }
   ],
   "source": [
    "lgr.fit(X,y)"
   ]
  },
  {
   "cell_type": "code",
   "execution_count": 19,
   "metadata": {},
   "outputs": [
    {
     "data": {
      "text/plain": [
       "array([[0.44327799, 0.55672201],\n",
       "       [0.436015  , 0.563985  ],\n",
       "       [0.43962616, 0.56037384],\n",
       "       ...,\n",
       "       [0.43734705, 0.56265295],\n",
       "       [0.44145129, 0.55854871],\n",
       "       [0.44304957, 0.55695043]])"
      ]
     },
     "execution_count": 19,
     "metadata": {},
     "output_type": "execute_result"
    }
   ],
   "source": [
    "lgr.predict_proba(X)"
   ]
  },
  {
   "cell_type": "code",
   "execution_count": 20,
   "metadata": {},
   "outputs": [
    {
     "data": {
      "text/plain": [
       "0.5614422369389257"
      ]
     },
     "execution_count": 20,
     "metadata": {},
     "output_type": "execute_result"
    }
   ],
   "source": [
    "lgr.score(X,y)"
   ]
  },
  {
   "cell_type": "code",
   "execution_count": 21,
   "metadata": {},
   "outputs": [],
   "source": [
    "from sklearn.preprocessing import StandardScaler \n",
    "from sklearn.metrics import confusion_matrix, classification_report "
   ]
  },
  {
   "cell_type": "code",
   "execution_count": 22,
   "metadata": {
    "scrolled": true
   },
   "outputs": [
    {
     "name": "stdout",
     "output_type": "stream",
     "text": [
      "              precision    recall  f1-score   support\n",
      "\n",
      "           N       0.00      0.00      0.00       179\n",
      "           Y       0.56      1.00      0.72       229\n",
      "\n",
      "    accuracy                           0.56       408\n",
      "   macro avg       0.28      0.50      0.36       408\n",
      "weighted avg       0.32      0.56      0.40       408\n",
      "\n"
     ]
    },
    {
     "name": "stderr",
     "output_type": "stream",
     "text": [
      "C:\\Users\\unodc\\anaconda3\\lib\\site-packages\\sklearn\\metrics\\_classification.py:1272: UndefinedMetricWarning: Precision and F-score are ill-defined and being set to 0.0 in labels with no predicted samples. Use `zero_division` parameter to control this behavior.\n",
      "  _warn_prf(average, modifier, msg_start, len(result))\n"
     ]
    }
   ],
   "source": [
    "predictions = lgr.predict(X_test) \n",
    "  \n",
    "# print classification report \n",
    "print(classification_report(y_test, predictions)) "
   ]
  },
  {
   "cell_type": "markdown",
   "metadata": {},
   "source": [
    "# Now we can consider the Logistics Regression with original data set without making the classifying sample equal."
   ]
  },
  {
   "cell_type": "code",
   "execution_count": 23,
   "metadata": {},
   "outputs": [],
   "source": [
    "df_t= X = df.dropna(subset = ['Total Cost'])"
   ]
  },
  {
   "cell_type": "code",
   "execution_count": 24,
   "metadata": {},
   "outputs": [
    {
     "data": {
      "text/plain": [
       "(13944, 112)"
      ]
     },
     "execution_count": 24,
     "metadata": {},
     "output_type": "execute_result"
    }
   ],
   "source": [
    "df_t.shape"
   ]
  },
  {
   "cell_type": "code",
   "execution_count": 25,
   "metadata": {},
   "outputs": [],
   "source": [
    "X = df_t[['Total Cost']].dropna(subset = ['Total Cost'])\n",
    "y = df_t[['FSV CMSI Flag']]"
   ]
  },
  {
   "cell_type": "code",
   "execution_count": 26,
   "metadata": {},
   "outputs": [
    {
     "data": {
      "text/plain": [
       "(13944, 1)"
      ]
     },
     "execution_count": 26,
     "metadata": {},
     "output_type": "execute_result"
    }
   ],
   "source": [
    "X.shape"
   ]
  },
  {
   "cell_type": "code",
   "execution_count": 27,
   "metadata": {},
   "outputs": [
    {
     "data": {
      "text/plain": [
       "(13944, 1)"
      ]
     },
     "execution_count": 27,
     "metadata": {},
     "output_type": "execute_result"
    }
   ],
   "source": [
    "y.shape"
   ]
  },
  {
   "cell_type": "code",
   "execution_count": 28,
   "metadata": {},
   "outputs": [
    {
     "data": {
      "text/plain": [
       "N    13181\n",
       "Y      763\n",
       "Name: FSV CMSI Flag, dtype: int64"
      ]
     },
     "execution_count": 28,
     "metadata": {},
     "output_type": "execute_result"
    }
   ],
   "source": [
    "df_t['FSV CMSI Flag']. value_counts()"
   ]
  },
  {
   "cell_type": "code",
   "execution_count": 29,
   "metadata": {},
   "outputs": [],
   "source": [
    "X_train, X_test, y_train, y_test = train_test_split(X, y, test_size = 0.3, random_state = 0) \n",
    "  \n"
   ]
  },
  {
   "cell_type": "code",
   "execution_count": 30,
   "metadata": {},
   "outputs": [
    {
     "name": "stdout",
     "output_type": "stream",
     "text": [
      "Number transactions X_train dataset:  (9760, 1)\n",
      "Number transactions y_train dataset:  (9760, 1)\n",
      "Number transactions X_test dataset:  (4184, 1)\n",
      "Number transactions y_test dataset:  (4184, 1)\n"
     ]
    }
   ],
   "source": [
    "# describes info about train and test set \n",
    "print(\"Number transactions X_train dataset: \", X_train.shape) \n",
    "print(\"Number transactions y_train dataset: \", y_train.shape) \n",
    "print(\"Number transactions X_test dataset: \", X_test.shape) \n",
    "print(\"Number transactions y_test dataset: \", y_test.shape) \n"
   ]
  },
  {
   "cell_type": "code",
   "execution_count": 31,
   "metadata": {},
   "outputs": [
    {
     "name": "stderr",
     "output_type": "stream",
     "text": [
      "C:\\Users\\unodc\\anaconda3\\lib\\site-packages\\sklearn\\utils\\validation.py:760: DataConversionWarning: A column-vector y was passed when a 1d array was expected. Please change the shape of y to (n_samples, ), for example using ravel().\n",
      "  y = column_or_1d(y, warn=True)\n"
     ]
    },
    {
     "data": {
      "text/plain": [
       "LogisticRegression(C=1.0, class_weight=None, dual=False, fit_intercept=True,\n",
       "                   intercept_scaling=1, l1_ratio=None, max_iter=100,\n",
       "                   multi_class='auto', n_jobs=None, penalty='l2',\n",
       "                   random_state=None, solver='lbfgs', tol=0.0001, verbose=0,\n",
       "                   warm_start=False)"
      ]
     },
     "execution_count": 31,
     "metadata": {},
     "output_type": "execute_result"
    }
   ],
   "source": [
    "lgr.fit(X,y)"
   ]
  },
  {
   "cell_type": "code",
   "execution_count": 32,
   "metadata": {},
   "outputs": [
    {
     "data": {
      "text/plain": [
       "0.945281124497992"
      ]
     },
     "execution_count": 32,
     "metadata": {},
     "output_type": "execute_result"
    }
   ],
   "source": [
    "lgr.score(X,y)"
   ]
  },
  {
   "cell_type": "code",
   "execution_count": 33,
   "metadata": {},
   "outputs": [
    {
     "name": "stdout",
     "output_type": "stream",
     "text": [
      "              precision    recall  f1-score   support\n",
      "\n",
      "           N       0.95      1.00      0.97      3968\n",
      "           Y       0.00      0.00      0.00       216\n",
      "\n",
      "    accuracy                           0.95      4184\n",
      "   macro avg       0.47      0.50      0.49      4184\n",
      "weighted avg       0.90      0.95      0.92      4184\n",
      "\n"
     ]
    },
    {
     "name": "stderr",
     "output_type": "stream",
     "text": [
      "C:\\Users\\unodc\\anaconda3\\lib\\site-packages\\sklearn\\metrics\\_classification.py:1272: UndefinedMetricWarning: Precision and F-score are ill-defined and being set to 0.0 in labels with no predicted samples. Use `zero_division` parameter to control this behavior.\n",
      "  _warn_prf(average, modifier, msg_start, len(result))\n"
     ]
    }
   ],
   "source": [
    "predictions = lgr.predict(X_test) \n",
    "  \n",
    "# print classification report \n",
    "print(classification_report(y_test, predictions)) "
   ]
  },
  {
   "cell_type": "markdown",
   "metadata": {},
   "source": [
    "# The recall of the minority class in very less. It proves that the model is more biased towards majority class. So, it proves that this is not the best model."
   ]
  },
  {
   "cell_type": "markdown",
   "metadata": {},
   "source": [
    "# Usage of SMOTE"
   ]
  },
  {
   "cell_type": "code",
   "execution_count": 34,
   "metadata": {},
   "outputs": [
    {
     "name": "stdout",
     "output_type": "stream",
     "text": [
      "Collecting imblearn\n",
      "  Downloading imblearn-0.0-py2.py3-none-any.whl (1.9 kB)\n",
      "Collecting imbalanced-learn\n",
      "  Downloading imbalanced_learn-0.6.2-py3-none-any.whl (163 kB)\n",
      "Requirement already satisfied: scikit-learn>=0.22 in c:\\users\\unodc\\anaconda3\\lib\\site-packages (from imbalanced-learn->imblearn) (0.22.1)\n",
      "Requirement already satisfied: numpy>=1.11 in c:\\users\\unodc\\anaconda3\\lib\\site-packages (from imbalanced-learn->imblearn) (1.18.1)\n",
      "Requirement already satisfied: joblib>=0.11 in c:\\users\\unodc\\anaconda3\\lib\\site-packages (from imbalanced-learn->imblearn) (0.14.1)\n",
      "Requirement already satisfied: scipy>=0.17 in c:\\users\\unodc\\anaconda3\\lib\\site-packages (from imbalanced-learn->imblearn) (1.4.1)\n",
      "Installing collected packages: imbalanced-learn, imblearn\n",
      "Successfully installed imbalanced-learn-0.6.2 imblearn-0.0\n"
     ]
    }
   ],
   "source": [
    "!pip install imblearn"
   ]
  },
  {
   "cell_type": "code",
   "execution_count": 35,
   "metadata": {},
   "outputs": [],
   "source": [
    "from imblearn.over_sampling import SMOTE "
   ]
  },
  {
   "cell_type": "code",
   "execution_count": 38,
   "metadata": {},
   "outputs": [
    {
     "name": "stdout",
     "output_type": "stream",
     "text": [
      "After OverSampling, the shape of train_X: (18426, 1)\n",
      "After OverSampling, the shape of train_y: (18426, 1) \n",
      "\n"
     ]
    }
   ],
   "source": [
    "sm = SMOTE(random_state = 2) \n",
    "X_train_res, y_train_res = sm.fit_sample(X_train, y_train) \n",
    "  \n",
    "print('After OverSampling, the shape of train_X: {}'.format(X_train_res.shape)) \n",
    "print('After OverSampling, the shape of train_y: {} \\n'.format(y_train_res.shape)) \n",
    "  \n",
    "#print(\"After OverSampling, counts of label '1': {}\".format(sum(y_train_res == 1))) \n",
    "#print(\"After OverSampling, counts of label '0': {}\".format(sum(y_train_res == 0))) "
   ]
  },
  {
   "cell_type": "code",
   "execution_count": 41,
   "metadata": {},
   "outputs": [
    {
     "name": "stdout",
     "output_type": "stream",
     "text": [
      "Number transactions X_train dataset:  (9760, 1)\n",
      "Number transactions y_train dataset:  (9760, 1)\n",
      "Number transactions X_test dataset:  (4184, 1)\n",
      "Number transactions y_test dataset:  (4184, 1)\n"
     ]
    }
   ],
   "source": [
    "print(\"Number transactions X_train dataset: \", X_train.shape) \n",
    "print(\"Number transactions y_train dataset: \", y_train.shape) \n",
    "print(\"Number transactions X_test dataset: \", X_test.shape) \n",
    "print(\"Number transactions y_test dataset: \", y_test.shape) "
   ]
  },
  {
   "cell_type": "code",
   "execution_count": 40,
   "metadata": {},
   "outputs": [
    {
     "name": "stderr",
     "output_type": "stream",
     "text": [
      "C:\\Users\\unodc\\anaconda3\\lib\\site-packages\\sklearn\\utils\\validation.py:760: DataConversionWarning: A column-vector y was passed when a 1d array was expected. Please change the shape of y to (n_samples, ), for example using ravel().\n",
      "  y = column_or_1d(y, warn=True)\n"
     ]
    },
    {
     "name": "stdout",
     "output_type": "stream",
     "text": [
      "              precision    recall  f1-score   support\n",
      "\n",
      "           N       0.94      0.37      0.54      3968\n",
      "           Y       0.05      0.56      0.09       216\n",
      "\n",
      "    accuracy                           0.38      4184\n",
      "   macro avg       0.49      0.47      0.31      4184\n",
      "weighted avg       0.89      0.38      0.51      4184\n",
      "\n"
     ]
    }
   ],
   "source": [
    "lr1 = LogisticRegression() \n",
    "lr1.fit(X_train_res, y_train_res) \n",
    "predictions = lr1.predict(X_test) \n",
    "  \n",
    "# print classification report \n",
    "print(classification_report(y_test, predictions)) "
   ]
  },
  {
   "cell_type": "code",
   "execution_count": 42,
   "metadata": {},
   "outputs": [
    {
     "data": {
      "text/plain": [
       "0.39945496270797476"
      ]
     },
     "execution_count": 42,
     "metadata": {},
     "output_type": "execute_result"
    }
   ],
   "source": [
    "lr1.score(X,y)"
   ]
  },
  {
   "cell_type": "markdown",
   "metadata": {},
   "source": [
    "##  precision    recall  f1-score   support  ( Equal samples)\n",
    "\n",
    "##           N       0.00      0.00      0.00       179\n",
    "##           Y       0.56      1.00      0.72       229\n",
    "## precision    recall  f1-score   support ( Original samples)\n",
    "\n",
    "##           N       0.95      1.00      0.97      3968\n",
    "##           Y       0.00      0.00      0.00       216\n",
    "##    precision    recall  f1-score   support ( Sampling with SMOTE)\n",
    "\n",
    "##           N       0.94      0.37      0.54      3968\n",
    "##           Y       0.05      0.56      0.09       216"
   ]
  },
  {
   "cell_type": "markdown",
   "metadata": {},
   "source": [
    "# We can see a clear advantage of using SMOTE in recall value for both minority class and majority class."
   ]
  },
  {
   "cell_type": "code",
   "execution_count": null,
   "metadata": {},
   "outputs": [],
   "source": []
  }
 ],
 "metadata": {
  "kernelspec": {
   "display_name": "Python 3",
   "language": "python",
   "name": "python3"
  },
  "language_info": {
   "codemirror_mode": {
    "name": "ipython",
    "version": 3
   },
   "file_extension": ".py",
   "mimetype": "text/x-python",
   "name": "python",
   "nbconvert_exporter": "python",
   "pygments_lexer": "ipython3",
   "version": "3.7.6"
  }
 },
 "nbformat": 4,
 "nbformat_minor": 2
}
